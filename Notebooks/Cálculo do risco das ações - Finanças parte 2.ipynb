{
 "cells": [
  {
   "cell_type": "markdown",
   "id": "f8e4cba1",
   "metadata": {},
   "source": [
    "# <font color='red'> 0 - ENTENDIMENTO DO NEGÓCIO"
   ]
  },
  {
   "cell_type": "markdown",
   "id": "196ec354",
   "metadata": {},
   "source": [
    "### <font color='blue'> DESCRIÇÃO DO NEGÓCIO"
   ]
  },
  {
   "cell_type": "markdown",
   "id": "503174c9",
   "metadata": {},
   "source": [
    "- Base de dados: Biblioteca yFinance"
   ]
  },
  {
   "cell_type": "markdown",
   "id": "34c55b6a",
   "metadata": {
    "ExecuteTime": {
     "end_time": "2022-09-28T13:34:56.396894Z",
     "start_time": "2022-09-28T13:34:56.375664Z"
    }
   },
   "source": [
    "<font color='green'> **Objetivo:**\n",
    "- Extrair os preços de ações da internet para observar o comportamento da carteira de ações no período de 2015 até 2022."
   ]
  },
  {
   "cell_type": "markdown",
   "id": "23e26467",
   "metadata": {},
   "source": [
    "<font color='green'> **O contexto:**\n",
    "    \n",
    "- O mercado financeiro é um ambiente extremamente complexo e dinâmico, onde investidores buscam constantemente informações e insights para tomarem decisões mais informadas. O comportamento das ações é um dos principais indicadores para investidores avaliarem a saúde de uma empresa, bem como as tendências do mercado como um todo.\n",
    "    \n",
    "\n",
    "- Caso você seja um investidor mais experiente e quer fazer a sua própria carteira, você pode medir o desempenho da sua carteira comparando com a BOVESPA, vários fundos de investimentos trabalham dessa forma, eles fazem o comparativo do fundo criado por uma determinada empresa ou por um banco e compara com a taxa de retorno da BOVESPA. Se a taxa do fundo for melhor do que BOVESPA, quer dizer que é interessante você investir nesse fundo.\n",
    "    \n",
    "- Temos uma carteira de ações com essas empresas: \n",
    "    - GOLL4.SA \n",
    "    - CVCB3.SA \n",
    "    - WEGE3.SA \n",
    "    - MGLU3.SA \n",
    "    - TOTS3.SA \n",
    "    - BOVA11.SA\n",
    "- Dentro deste perído ocorreu a pandemia do covid 19.\n",
    "    \n",
    "    \n",
    "Lembrando: \n",
    "\n",
    "   - A BOVESPA contém as melhores empresas da Bolsa de Valores do Brasil, porém nem sempre vamos ter os melhores retornos, por isso que é interessante fazer esses comparativos.\n",
    "   - O retorno é o lucro sobre o investimento em um determinado ativo, pode ser calculado de acordo com o retorno simples ou o retorno logarítmico. É importante ressaltar que o retorno logarítmico é utilizado para o cálculo de apenas uma ação, e a taxa de retorno simples é mais indicado para o cálculo de mais de um ativo."
   ]
  },
  {
   "cell_type": "markdown",
   "id": "2ffbd8d8",
   "metadata": {
    "ExecuteTime": {
     "end_time": "2022-09-28T11:20:49.827979Z",
     "start_time": "2022-09-28T11:20:49.803980Z"
    }
   },
   "source": [
    "<font color='green'> **Stakeholder:**\n",
    "- Gerente do departamento Financeiro."
   ]
  },
  {
   "cell_type": "markdown",
   "id": "c50296c2",
   "metadata": {},
   "source": [
    "<font color='green'> **O formato da solução:**\n",
    "- Granularidade\n",
    "    -  Os dados serão coletados em uma base diária e terão granularidade de um dia. Isso significa que as informações sobre preços de ações serão coletadas diariamente para cada empresa incluída na carteira de ações.\n",
    "    \n",
    "    \n",
    "- Tipo do problema\n",
    "    -  O problema a ser abordado é a dificuldade em compreender o comportamento da carteira de ações ao longo do tempo, com base nos dados coletados sobre os preços das ações das empresas incluídas na carteira.\n",
    "    \n",
    "    \n",
    "- Potenciais métodos\n",
    "    - Análise da taxa de retorno simples e logarítmica, bem como o cálculo dos retornos anuais, a variância e o desvio padrão. Além disso, o cálculo do coeficiente de variação e o risco médio anual para todas as ações da carteira.\n",
    "    \n",
    "    \n",
    "- Formato da entrega\n",
    "    - A entrega será realizada por meio de um relatório detalhando os insights gerados pela análise de dados, incluindo gráficos e visualizações que auxiliem na compreensão dos resultados. \n",
    "\n",
    "    \n",
    "**Resumo:** Utilizando técnicas de ciência de dados, será possível extrair insights valiosos a partir dos preços de ações coletados, que permitirão compreender o comportamento da carteira de ações no período de 2015 até 2022. O processo incluirá a coleta e análise dos dados, a seleção dos melhores métodos e a entrega dos resultados em um relatório e arquivos de dados. Essa solução possibilitará que investidores tomem decisões mais informadas e estratégicas em relação à carteira de ações."
   ]
  },
  {
   "cell_type": "markdown",
   "id": "172f2dc8",
   "metadata": {
    "ExecuteTime": {
     "end_time": "2022-10-04T21:09:13.772046Z",
     "start_time": "2022-10-04T21:09:13.756028Z"
    }
   },
   "source": [
    "### <font color='blue'> PLANEJAMENTO DA SOLUÇÃO"
   ]
  },
  {
   "cell_type": "markdown",
   "id": "8aa2c030",
   "metadata": {},
   "source": [
    "**O pipeline ideal para ciência de dados depende do contexto específico de cada projeto e da organização em que o trabalho está sendo realizado.**\n",
    "\n",
    "<font color='red'> **O planejamento da solução para este projeto se baseia nas seguintes etapas:**"
   ]
  },
  {
   "cell_type": "markdown",
   "id": "c58a22ed",
   "metadata": {},
   "source": [
    "0. **ENTENDIMENTO DO NEGÓCIO**\n",
    "<p>Definição do problema: É importante definir claramente qual é o problema a ser resolvido ou a pergunta a ser respondida. É preciso entender o objetivo do projeto e a relevância do problema.</p>\n",
    "\n",
    "    - Descrição do negócio\n",
    "    - Planejamento da solução\n",
    "\n",
    "\n",
    "1. **IMPORTANDO AS BIBLIOTECAS**\n",
    "<p>Importação de bibliotecas: Nesta etapa, as bibliotecas necessárias para o desenvolvimento do modelo de machine learning são importadas. Isso inclui bibliotecas para manipulação de dados, visualização, modelagem e avaliação.</p>\n",
    "\n",
    "\n",
    "2. **COLETA DOS DADOS**\n",
    "<p>Coleta de dados: Nesta etapa, os dados são coletados a partir de diversas fontes, como bases de dados, APIs, arquivos de texto, imagens, etc.</p>\n",
    "\n",
    "\n",
    "3. **LIMPEZA DOS DADOS**\n",
    "<p>Limpeza dos dados: Esta etapa consiste na descrição estatística dos dados coletados, como média, mediana, desvio padrão, entre outros. É importante entender os dados coletados, avaliar a qualidade dos dados e identificar quaisquer problemas ou limitações.</p>\n",
    "\n",
    "    - **1:** Coluna\n",
    "    - **2:** Dimensões de dados\n",
    "    - **3:** Tipos de dados\n",
    "    - **4:** Verificando dados nulos\n",
    "    - **5:** Estatística descritiva\n",
    "\n",
    "\n",
    "4. **ANÁLISE EXPLORATÓRIA DOS DADOS**\n",
    "<p>Análise exploratória de dados: Nesta etapa, os dados são visualizados e analisados graficamente para identificar padrões e relações entre as variáveis.</p>\n",
    "\n",
    "    - **1:** Cálculo dos retornos anuais - Taxa de Retorno Logarítmica\n",
    "    - **2:** Cálculo dos retornos anuais - Variância\n",
    "    - **3:** Cálculo dos retornos anuais - Desvio padrão\n",
    "    - **4:** Coeficiente de variação\n",
    "    - **5:** Cálculos com todas as ações - risco médio anual\n",
    "    - **6:** Conclusão dos cálculos: Taxa de Retorno Logarítmica - Retornos anuais - Risco médio anual\n",
    "    - **7:** Correlação entre ações\n",
    "    - **8:** Risco de um portfólio para Gol e CVC\n",
    "    - **9:** Risco de um portfólio para todas as ações\n",
    "    \n",
    "    \n",
    "5. **INSIGHTS**\n",
    "<p>Nesta etapa, são identificadas as principais descobertas e conclusões do projeto.</p>\n",
    "\n",
    "\n",
    "6. **PRÓXIMOS PASSOS**\n",
    "<p>Nesta etapa, são definidos os próximos passos a serem tomados com base nos resultados obtidos e nos insights identificados. Isso pode incluir melhorias no modelo existente, coleta de mais dados, exploração de diferentes modelos, entre outros.</p>"
   ]
  },
  {
   "cell_type": "markdown",
   "id": "ee9e5edf",
   "metadata": {},
   "source": [
    "# <font color='red'> 1 - IMPORTANDO AS BIBLIOTECAS"
   ]
  },
  {
   "cell_type": "code",
   "execution_count": 1,
   "id": "5b48a70b",
   "metadata": {
    "ExecuteTime": {
     "end_time": "2023-04-19T12:45:06.922706Z",
     "start_time": "2023-04-19T12:45:02.645401Z"
    }
   },
   "outputs": [],
   "source": [
    "import math\n",
    "import pandas            as pd\n",
    "import numpy             as np\n",
    "import matplotlib.pyplot as plt\n",
    "import matplotlib.colors as mcolors\n",
    "import seaborn           as sns\n",
    "\n",
    "from scipy import stats"
   ]
  },
  {
   "cell_type": "code",
   "execution_count": 2,
   "id": "818305c3",
   "metadata": {
    "ExecuteTime": {
     "end_time": "2023-04-19T12:45:06.938702Z",
     "start_time": "2023-04-19T12:45:06.926710Z"
    }
   },
   "outputs": [],
   "source": [
    "import warnings\n",
    "warnings.filterwarnings(\"ignore\")\n",
    "warnings.filterwarnings('ignore', category=DeprecationWarning)"
   ]
  },
  {
   "cell_type": "markdown",
   "id": "aed9d0fe",
   "metadata": {},
   "source": [
    "# <font color='red'> 2 - COLETA DOS DADOS"
   ]
  },
  {
   "cell_type": "code",
   "execution_count": 3,
   "id": "ee10c71c",
   "metadata": {
    "ExecuteTime": {
     "end_time": "2023-04-19T12:45:06.985732Z",
     "start_time": "2023-04-19T12:45:06.948697Z"
    }
   },
   "outputs": [],
   "source": [
    "dataset = pd.read_csv('Datasets/acoes.csv')"
   ]
  },
  {
   "cell_type": "code",
   "execution_count": 4,
   "id": "8d0c54ea",
   "metadata": {
    "ExecuteTime": {
     "end_time": "2023-04-19T12:45:07.032729Z",
     "start_time": "2023-04-19T12:45:06.990734Z"
    }
   },
   "outputs": [
    {
     "data": {
      "text/html": [
       "<div>\n",
       "<style scoped>\n",
       "    .dataframe tbody tr th:only-of-type {\n",
       "        vertical-align: middle;\n",
       "    }\n",
       "\n",
       "    .dataframe tbody tr th {\n",
       "        vertical-align: top;\n",
       "    }\n",
       "\n",
       "    .dataframe thead th {\n",
       "        text-align: right;\n",
       "    }\n",
       "</style>\n",
       "<table border=\"1\" class=\"dataframe\">\n",
       "  <thead>\n",
       "    <tr style=\"text-align: right;\">\n",
       "      <th></th>\n",
       "      <th>Date</th>\n",
       "      <th>GOLL4.SA</th>\n",
       "      <th>CVCB3.SA</th>\n",
       "      <th>WEGE3.SA</th>\n",
       "      <th>MGLU3.SA</th>\n",
       "      <th>TOTS3.SA</th>\n",
       "      <th>BOVA11.SA</th>\n",
       "    </tr>\n",
       "  </thead>\n",
       "  <tbody>\n",
       "    <tr>\n",
       "      <th>0</th>\n",
       "      <td>2015-01-02</td>\n",
       "      <td>14.99</td>\n",
       "      <td>15.20</td>\n",
       "      <td>5.923076</td>\n",
       "      <td>0.232812</td>\n",
       "      <td>11.910702</td>\n",
       "      <td>47.259998</td>\n",
       "    </tr>\n",
       "    <tr>\n",
       "      <th>1</th>\n",
       "      <td>2015-01-05</td>\n",
       "      <td>14.85</td>\n",
       "      <td>15.00</td>\n",
       "      <td>5.963461</td>\n",
       "      <td>0.237187</td>\n",
       "      <td>11.544731</td>\n",
       "      <td>46.320000</td>\n",
       "    </tr>\n",
       "    <tr>\n",
       "      <th>2</th>\n",
       "      <td>2015-01-06</td>\n",
       "      <td>15.21</td>\n",
       "      <td>14.80</td>\n",
       "      <td>5.875000</td>\n",
       "      <td>0.234062</td>\n",
       "      <td>10.822770</td>\n",
       "      <td>46.580002</td>\n",
       "    </tr>\n",
       "    <tr>\n",
       "      <th>3</th>\n",
       "      <td>2015-01-07</td>\n",
       "      <td>14.55</td>\n",
       "      <td>14.67</td>\n",
       "      <td>5.807692</td>\n",
       "      <td>0.241875</td>\n",
       "      <td>10.746248</td>\n",
       "      <td>48.150002</td>\n",
       "    </tr>\n",
       "    <tr>\n",
       "      <th>4</th>\n",
       "      <td>2015-01-08</td>\n",
       "      <td>14.27</td>\n",
       "      <td>14.15</td>\n",
       "      <td>5.905769</td>\n",
       "      <td>0.240000</td>\n",
       "      <td>10.995774</td>\n",
       "      <td>48.509998</td>\n",
       "    </tr>\n",
       "    <tr>\n",
       "      <th>...</th>\n",
       "      <td>...</td>\n",
       "      <td>...</td>\n",
       "      <td>...</td>\n",
       "      <td>...</td>\n",
       "      <td>...</td>\n",
       "      <td>...</td>\n",
       "      <td>...</td>\n",
       "    </tr>\n",
       "    <tr>\n",
       "      <th>1983</th>\n",
       "      <td>2022-12-23</td>\n",
       "      <td>7.58</td>\n",
       "      <td>4.71</td>\n",
       "      <td>38.500000</td>\n",
       "      <td>2.680000</td>\n",
       "      <td>28.350000</td>\n",
       "      <td>106.000000</td>\n",
       "    </tr>\n",
       "    <tr>\n",
       "      <th>1984</th>\n",
       "      <td>2022-12-26</td>\n",
       "      <td>7.50</td>\n",
       "      <td>4.72</td>\n",
       "      <td>38.189999</td>\n",
       "      <td>2.660000</td>\n",
       "      <td>27.049999</td>\n",
       "      <td>105.150002</td>\n",
       "    </tr>\n",
       "    <tr>\n",
       "      <th>1985</th>\n",
       "      <td>2022-12-27</td>\n",
       "      <td>7.22</td>\n",
       "      <td>4.38</td>\n",
       "      <td>38.009998</td>\n",
       "      <td>2.520000</td>\n",
       "      <td>26.760000</td>\n",
       "      <td>104.900002</td>\n",
       "    </tr>\n",
       "    <tr>\n",
       "      <th>1986</th>\n",
       "      <td>2022-12-28</td>\n",
       "      <td>7.52</td>\n",
       "      <td>4.57</td>\n",
       "      <td>38.700001</td>\n",
       "      <td>2.690000</td>\n",
       "      <td>27.900000</td>\n",
       "      <td>106.800003</td>\n",
       "    </tr>\n",
       "    <tr>\n",
       "      <th>1987</th>\n",
       "      <td>2022-12-29</td>\n",
       "      <td>7.34</td>\n",
       "      <td>4.49</td>\n",
       "      <td>38.509998</td>\n",
       "      <td>2.740000</td>\n",
       "      <td>27.620001</td>\n",
       "      <td>105.949997</td>\n",
       "    </tr>\n",
       "  </tbody>\n",
       "</table>\n",
       "<p>1988 rows × 7 columns</p>\n",
       "</div>"
      ],
      "text/plain": [
       "            Date  GOLL4.SA  CVCB3.SA   WEGE3.SA  MGLU3.SA   TOTS3.SA  \\\n",
       "0     2015-01-02     14.99     15.20   5.923076  0.232812  11.910702   \n",
       "1     2015-01-05     14.85     15.00   5.963461  0.237187  11.544731   \n",
       "2     2015-01-06     15.21     14.80   5.875000  0.234062  10.822770   \n",
       "3     2015-01-07     14.55     14.67   5.807692  0.241875  10.746248   \n",
       "4     2015-01-08     14.27     14.15   5.905769  0.240000  10.995774   \n",
       "...          ...       ...       ...        ...       ...        ...   \n",
       "1983  2022-12-23      7.58      4.71  38.500000  2.680000  28.350000   \n",
       "1984  2022-12-26      7.50      4.72  38.189999  2.660000  27.049999   \n",
       "1985  2022-12-27      7.22      4.38  38.009998  2.520000  26.760000   \n",
       "1986  2022-12-28      7.52      4.57  38.700001  2.690000  27.900000   \n",
       "1987  2022-12-29      7.34      4.49  38.509998  2.740000  27.620001   \n",
       "\n",
       "       BOVA11.SA  \n",
       "0      47.259998  \n",
       "1      46.320000  \n",
       "2      46.580002  \n",
       "3      48.150002  \n",
       "4      48.509998  \n",
       "...          ...  \n",
       "1983  106.000000  \n",
       "1984  105.150002  \n",
       "1985  104.900002  \n",
       "1986  106.800003  \n",
       "1987  105.949997  \n",
       "\n",
       "[1988 rows x 7 columns]"
      ]
     },
     "execution_count": 4,
     "metadata": {},
     "output_type": "execute_result"
    }
   ],
   "source": [
    "dataset"
   ]
  },
  {
   "cell_type": "markdown",
   "id": "1142cbf8",
   "metadata": {},
   "source": [
    "# <font color='red'> 3 - LIMPEZA DOS DADOS"
   ]
  },
  {
   "cell_type": "markdown",
   "id": "3f5a03d0",
   "metadata": {},
   "source": [
    "### <font color='#F37126'> 3.1. Colunas"
   ]
  },
  {
   "cell_type": "markdown",
   "id": "880c8129",
   "metadata": {},
   "source": [
    "**Visualizando cabeçalho do dataframe**"
   ]
  },
  {
   "cell_type": "code",
   "execution_count": 5,
   "id": "948ecb90",
   "metadata": {
    "ExecuteTime": {
     "end_time": "2023-04-19T12:45:07.064691Z",
     "start_time": "2023-04-19T12:45:07.039706Z"
    }
   },
   "outputs": [
    {
     "name": "stdout",
     "output_type": "stream",
     "text": [
      "['Date', 'GOLL4.SA', 'CVCB3.SA', 'WEGE3.SA', 'MGLU3.SA', 'TOTS3.SA', 'BOVA11.SA']\n"
     ]
    }
   ],
   "source": [
    "print(dataset.columns.to_list())"
   ]
  },
  {
   "cell_type": "code",
   "execution_count": 6,
   "id": "bccd7309",
   "metadata": {
    "ExecuteTime": {
     "end_time": "2023-04-19T12:45:07.096717Z",
     "start_time": "2023-04-19T12:45:07.073688Z"
    }
   },
   "outputs": [],
   "source": [
    "dataset = dataset.rename(columns={'GOLL4.SA': 'GOL', 'CVCB3.SA': 'CVC', 'WEGE3.SA': 'WEGE',\n",
    "                                    'MGLU3.SA': 'MGLU', 'TOTS3.SA': 'TOTS', 'BOVA11.SA': 'BOVA'})"
   ]
  },
  {
   "cell_type": "code",
   "execution_count": 7,
   "id": "fa8ad60f",
   "metadata": {
    "ExecuteTime": {
     "end_time": "2023-04-19T12:45:07.112664Z",
     "start_time": "2023-04-19T12:45:07.099671Z"
    }
   },
   "outputs": [
    {
     "data": {
      "text/plain": [
       "Index(['Date', 'GOL', 'CVC', 'WEGE', 'MGLU', 'TOTS', 'BOVA'], dtype='object')"
      ]
     },
     "execution_count": 7,
     "metadata": {},
     "output_type": "execute_result"
    }
   ],
   "source": [
    "dataset.columns"
   ]
  },
  {
   "cell_type": "markdown",
   "id": "fe52a747",
   "metadata": {},
   "source": [
    "### <font color='#F37126'> 3.2. Dimensões de dados"
   ]
  },
  {
   "cell_type": "markdown",
   "id": "0cd0986f",
   "metadata": {},
   "source": [
    "**Verificando informações sobre o dataframe: linhas e colunas**"
   ]
  },
  {
   "cell_type": "code",
   "execution_count": 8,
   "id": "4026509f",
   "metadata": {
    "ExecuteTime": {
     "end_time": "2023-04-19T12:45:07.143989Z",
     "start_time": "2023-04-19T12:45:07.118661Z"
    }
   },
   "outputs": [
    {
     "data": {
      "text/plain": [
       "(1988, 7)"
      ]
     },
     "execution_count": 8,
     "metadata": {},
     "output_type": "execute_result"
    }
   ],
   "source": [
    "dataset.shape"
   ]
  },
  {
   "cell_type": "code",
   "execution_count": 9,
   "id": "0867a78d",
   "metadata": {
    "ExecuteTime": {
     "end_time": "2023-04-19T12:45:07.175926Z",
     "start_time": "2023-04-19T12:45:07.152942Z"
    }
   },
   "outputs": [
    {
     "data": {
      "text/plain": [
       "Date    1988\n",
       "GOL     1423\n",
       "CVC     1505\n",
       "WEGE    1462\n",
       "MGLU    1756\n",
       "TOTS    1389\n",
       "BOVA    1697\n",
       "dtype: int64"
      ]
     },
     "execution_count": 9,
     "metadata": {},
     "output_type": "execute_result"
    }
   ],
   "source": [
    "dataset.nunique()"
   ]
  },
  {
   "cell_type": "markdown",
   "id": "2540e432",
   "metadata": {},
   "source": [
    "### <font color='#F37126'> 3.3. Tipos de dados"
   ]
  },
  {
   "cell_type": "markdown",
   "id": "2afab4fd",
   "metadata": {},
   "source": [
    "**Verificando o tipo das colunas**"
   ]
  },
  {
   "cell_type": "code",
   "execution_count": 10,
   "id": "35408482",
   "metadata": {
    "ExecuteTime": {
     "end_time": "2023-04-19T12:45:07.206584Z",
     "start_time": "2023-04-19T12:45:07.182923Z"
    }
   },
   "outputs": [
    {
     "data": {
      "text/plain": [
       "Date     object\n",
       "GOL     float64\n",
       "CVC     float64\n",
       "WEGE    float64\n",
       "MGLU    float64\n",
       "TOTS    float64\n",
       "BOVA    float64\n",
       "dtype: object"
      ]
     },
     "execution_count": 10,
     "metadata": {},
     "output_type": "execute_result"
    }
   ],
   "source": [
    "dataset.dtypes"
   ]
  },
  {
   "cell_type": "markdown",
   "id": "0e9d74e8",
   "metadata": {},
   "source": [
    "### <font color='#F37126'> 3.4. Verificando dados nulos"
   ]
  },
  {
   "cell_type": "markdown",
   "id": "a75b92e5",
   "metadata": {},
   "source": [
    "**Verificando dados nulos**"
   ]
  },
  {
   "cell_type": "code",
   "execution_count": 11,
   "id": "08bd7578",
   "metadata": {
    "ExecuteTime": {
     "end_time": "2023-04-19T12:45:07.237775Z",
     "start_time": "2023-04-19T12:45:07.211581Z"
    }
   },
   "outputs": [
    {
     "data": {
      "text/plain": [
       "Date    0\n",
       "GOL     0\n",
       "CVC     0\n",
       "WEGE    0\n",
       "MGLU    0\n",
       "TOTS    0\n",
       "BOVA    0\n",
       "dtype: int64"
      ]
     },
     "execution_count": 11,
     "metadata": {},
     "output_type": "execute_result"
    }
   ],
   "source": [
    "dataset.isnull().sum()"
   ]
  },
  {
   "cell_type": "markdown",
   "id": "dc95a1b0",
   "metadata": {},
   "source": [
    "### <font color='#F37126'> 3.5. Estatística descritiva"
   ]
  },
  {
   "cell_type": "markdown",
   "id": "8ec88420",
   "metadata": {},
   "source": [
    "**Descrevendo estatísticas sobre os dados**"
   ]
  },
  {
   "cell_type": "code",
   "execution_count": 12,
   "id": "8eeadda4",
   "metadata": {
    "ExecuteTime": {
     "end_time": "2023-04-19T12:45:07.299285Z",
     "start_time": "2023-04-19T12:45:07.242780Z"
    }
   },
   "outputs": [
    {
     "data": {
      "text/html": [
       "<div>\n",
       "<style scoped>\n",
       "    .dataframe tbody tr th:only-of-type {\n",
       "        vertical-align: middle;\n",
       "    }\n",
       "\n",
       "    .dataframe tbody tr th {\n",
       "        vertical-align: top;\n",
       "    }\n",
       "\n",
       "    .dataframe thead th {\n",
       "        text-align: right;\n",
       "    }\n",
       "</style>\n",
       "<table border=\"1\" class=\"dataframe\">\n",
       "  <thead>\n",
       "    <tr style=\"text-align: right;\">\n",
       "      <th></th>\n",
       "      <th>GOL</th>\n",
       "      <th>CVC</th>\n",
       "      <th>WEGE</th>\n",
       "      <th>MGLU</th>\n",
       "      <th>TOTS</th>\n",
       "      <th>BOVA</th>\n",
       "    </tr>\n",
       "  </thead>\n",
       "  <tbody>\n",
       "    <tr>\n",
       "      <th>count</th>\n",
       "      <td>1988.000000</td>\n",
       "      <td>1988.000000</td>\n",
       "      <td>1988.000000</td>\n",
       "      <td>1988.000000</td>\n",
       "      <td>1988.000000</td>\n",
       "      <td>1988.000000</td>\n",
       "    </tr>\n",
       "    <tr>\n",
       "      <th>mean</th>\n",
       "      <td>15.310931</td>\n",
       "      <td>28.040722</td>\n",
       "      <td>16.946052</td>\n",
       "      <td>6.756544</td>\n",
       "      <td>17.890503</td>\n",
       "      <td>81.839936</td>\n",
       "    </tr>\n",
       "    <tr>\n",
       "      <th>std</th>\n",
       "      <td>9.331399</td>\n",
       "      <td>16.242869</td>\n",
       "      <td>12.475434</td>\n",
       "      <td>7.634753</td>\n",
       "      <td>9.392867</td>\n",
       "      <td>23.956113</td>\n",
       "    </tr>\n",
       "    <tr>\n",
       "      <th>min</th>\n",
       "      <td>1.160000</td>\n",
       "      <td>3.660000</td>\n",
       "      <td>4.942307</td>\n",
       "      <td>0.030585</td>\n",
       "      <td>7.156402</td>\n",
       "      <td>36.450001</td>\n",
       "    </tr>\n",
       "    <tr>\n",
       "      <th>25%</th>\n",
       "      <td>7.900000</td>\n",
       "      <td>15.000000</td>\n",
       "      <td>6.740384</td>\n",
       "      <td>0.413232</td>\n",
       "      <td>10.070865</td>\n",
       "      <td>60.080000</td>\n",
       "    </tr>\n",
       "    <tr>\n",
       "      <th>50%</th>\n",
       "      <td>13.935000</td>\n",
       "      <td>21.900000</td>\n",
       "      <td>9.375000</td>\n",
       "      <td>3.910000</td>\n",
       "      <td>12.339887</td>\n",
       "      <td>82.699997</td>\n",
       "    </tr>\n",
       "    <tr>\n",
       "      <th>75%</th>\n",
       "      <td>20.995000</td>\n",
       "      <td>43.085000</td>\n",
       "      <td>30.290001</td>\n",
       "      <td>10.281875</td>\n",
       "      <td>27.070000</td>\n",
       "      <td>103.072500</td>\n",
       "    </tr>\n",
       "    <tr>\n",
       "      <th>max</th>\n",
       "      <td>43.790001</td>\n",
       "      <td>64.800003</td>\n",
       "      <td>46.105000</td>\n",
       "      <td>27.450001</td>\n",
       "      <td>40.599998</td>\n",
       "      <td>125.750000</td>\n",
       "    </tr>\n",
       "  </tbody>\n",
       "</table>\n",
       "</div>"
      ],
      "text/plain": [
       "               GOL          CVC         WEGE         MGLU         TOTS  \\\n",
       "count  1988.000000  1988.000000  1988.000000  1988.000000  1988.000000   \n",
       "mean     15.310931    28.040722    16.946052     6.756544    17.890503   \n",
       "std       9.331399    16.242869    12.475434     7.634753     9.392867   \n",
       "min       1.160000     3.660000     4.942307     0.030585     7.156402   \n",
       "25%       7.900000    15.000000     6.740384     0.413232    10.070865   \n",
       "50%      13.935000    21.900000     9.375000     3.910000    12.339887   \n",
       "75%      20.995000    43.085000    30.290001    10.281875    27.070000   \n",
       "max      43.790001    64.800003    46.105000    27.450001    40.599998   \n",
       "\n",
       "              BOVA  \n",
       "count  1988.000000  \n",
       "mean     81.839936  \n",
       "std      23.956113  \n",
       "min      36.450001  \n",
       "25%      60.080000  \n",
       "50%      82.699997  \n",
       "75%     103.072500  \n",
       "max     125.750000  "
      ]
     },
     "execution_count": 12,
     "metadata": {},
     "output_type": "execute_result"
    }
   ],
   "source": [
    "dataset.describe()"
   ]
  },
  {
   "cell_type": "markdown",
   "id": "5dbc9a72",
   "metadata": {},
   "source": [
    "**Nota:**\n",
    "\n",
    "- Para medir o risco de uma ação, nós utilizamos o desvio padrão, que é o quanto o preço de uma ação está variando em relação a média.\n",
    "    - Por exemplo: a ação da CVC, tem a média de 28.04 e os preços variam para cima ou para baixo, em torno de 16 reais e 24 centavos.\n",
    "    \n",
    "    \n",
    "- O que vamos fazer é selecionar as ações que tem o maior desvio padrão e as ações que tem o menor desvio padrão.\n",
    "    - Não vamos considerar a ação da BOVA\n",
    "    - A ação da empresa CVC tem o maior desvio padrão, isso indica, que o risco é maior, pois existe uma grande variação no preço da ação.\n",
    "    - A ação da empresa MGLU tem o menor desvio padrão.\n",
    "    - Vamos calcular o retorno anual para as duas empresas."
   ]
  },
  {
   "cell_type": "markdown",
   "id": "83f44872",
   "metadata": {},
   "source": [
    "# <font color='red'> 4 - ANÁLISE EXPLORATÓRIA DOS DADOS"
   ]
  },
  {
   "cell_type": "markdown",
   "id": "bb41e094",
   "metadata": {},
   "source": [
    "### <font color='#F37126'> 4.1. Cálculo dos retornos anuais - Taxa de Retorno Logarítmica"
   ]
  },
  {
   "cell_type": "markdown",
   "id": "7a3d950e",
   "metadata": {},
   "source": [
    "<p>O cálculo dos retornos anuais mede o desempenho da ação em relação ao seu preço de compra em um determinado período, enquanto a volatilidade anualizada é uma medida de risco que indica a variação histórica dos preços da ação durante um determinado período.</p>\n",
    "<p>O cálculo dos retornos anuais é realizado através do cálculo da variação percentual entre o preço atual da ação e o preço de compra em um determinado período de tempo. Essa medida permite avaliar a rentabilidade de um investimento em uma determinada ação em um período específico.</p>\n",
    "\n",
    "- Vamos fazer o cálculo da taxa de retorno e como vamos trabalhar com a taxa de retorno da mesma empresa em períodos diferentes, nós podemos utilizar a taxa de retorno logarítmica, que é recomendada quando você quer comparar a mesma ação em intervalos de tempo diferentes.\n",
    "\n",
    "\n",
    "- A taxa de retorno logarítmica é expressa em forma de decimal ou percentual e mede a taxa de crescimento médio anual do investimento durante o período considerado.\n",
    "\n",
    "\n",
    "- Por exemplo, se o valor de um ativo no início do ano era de 100 reais e no final do ano era de 120 reais, a taxa de retorno logarítmica seria:\n",
    "\n",
    "        - Taxa de Retorno Logarítmica = ln (Valor Final / Valor Inicial) x 100%\n",
    "        - Taxa de Retorno Logarítmica = ln (120 / 100) = ln(1,2) ≈ 0,1823\n",
    "\n",
    "A taxa de retorno logarítmica seria, portanto, de aproximadamente 18,23%. Isso significa que o investimento teve uma taxa de crescimento médio anual de 18,23% durante o período considerado."
   ]
  },
  {
   "cell_type": "markdown",
   "id": "0553be0a",
   "metadata": {},
   "source": [
    "- Objetivo é fazer o cálculo dos retornos anuais, para saber qual foi o percentual de retorno em cada um dos anos, para depois fazer o cálculo do risco.\n",
    "- Para fazer o cálculo dos retornos anuais em porcentagem, vamos precisar da data inicial, data final, primeiro preço e o último preço."
   ]
  },
  {
   "cell_type": "code",
   "execution_count": 13,
   "id": "28cc43f6",
   "metadata": {
    "ExecuteTime": {
     "end_time": "2023-04-19T12:45:07.331084Z",
     "start_time": "2023-04-19T12:45:07.302287Z"
    }
   },
   "outputs": [],
   "source": [
    "# Mudando os tipos das colunas\n",
    "dataset['Date'] = pd.to_datetime( dataset['Date'] )"
   ]
  },
  {
   "cell_type": "code",
   "execution_count": 14,
   "id": "823aaa91",
   "metadata": {
    "ExecuteTime": {
     "end_time": "2023-04-19T12:45:08.233783Z",
     "start_time": "2023-04-19T12:45:07.335141Z"
    }
   },
   "outputs": [],
   "source": [
    "# Criando um atributo para ano\n",
    "dataset['year'] = dataset['Date'].dt.year\n",
    "# Criando um atributo para mês\n",
    "dataset['month'] = dataset['Date'].dt.month\n",
    "# Criando um atributo para dia\n",
    "dataset['day'] = dataset['Date'].dt.day\n",
    "# Criando um atributo para semana do ano\n",
    "dataset['week_of_year'] = dataset['Date'].dt.weekofyear\n",
    "# Criando um atributo ano e semana\n",
    "dataset['year_week'] = dataset['Date'].dt.strftime( '%Y-%W' )\n",
    "# Criando um atributo ano e mês\n",
    "dataset['year_month'] = dataset['Date'].dt.strftime('%Y-%m')"
   ]
  },
  {
   "cell_type": "code",
   "execution_count": 15,
   "id": "55c69e17",
   "metadata": {
    "ExecuteTime": {
     "end_time": "2023-04-19T12:45:08.280530Z",
     "start_time": "2023-04-19T12:45:08.237791Z"
    }
   },
   "outputs": [
    {
     "data": {
      "text/html": [
       "<div>\n",
       "<style scoped>\n",
       "    .dataframe tbody tr th:only-of-type {\n",
       "        vertical-align: middle;\n",
       "    }\n",
       "\n",
       "    .dataframe tbody tr th {\n",
       "        vertical-align: top;\n",
       "    }\n",
       "\n",
       "    .dataframe thead th {\n",
       "        text-align: right;\n",
       "    }\n",
       "</style>\n",
       "<table border=\"1\" class=\"dataframe\">\n",
       "  <thead>\n",
       "    <tr style=\"text-align: right;\">\n",
       "      <th></th>\n",
       "      <th>GOL</th>\n",
       "      <th>CVC</th>\n",
       "      <th>WEGE</th>\n",
       "      <th>MGLU</th>\n",
       "      <th>TOTS</th>\n",
       "      <th>BOVA</th>\n",
       "    </tr>\n",
       "  </thead>\n",
       "  <tbody>\n",
       "    <tr>\n",
       "      <th>Taxa de Retorno logarítmica</th>\n",
       "      <td>-71.40</td>\n",
       "      <td>-121.94</td>\n",
       "      <td>187.21</td>\n",
       "      <td>246.55</td>\n",
       "      <td>84.11</td>\n",
       "      <td>80.73</td>\n",
       "    </tr>\n",
       "  </tbody>\n",
       "</table>\n",
       "</div>"
      ],
      "text/plain": [
       "                                GOL      CVC    WEGE    MGLU   TOTS   BOVA\n",
       "Taxa de Retorno logarítmica  -71.40  -121.94  187.21  246.55  84.11  80.73"
      ]
     },
     "execution_count": 15,
     "metadata": {},
     "output_type": "execute_result"
    }
   ],
   "source": [
    "taxas_retorno = {}\n",
    "\n",
    "for coluna in ['GOL', 'CVC', 'WEGE', 'MGLU', 'TOTS', 'BOVA']:\n",
    "    preco_final = dataset[coluna][len(dataset) - 1]\n",
    "    preco_inicial = dataset[coluna][0]\n",
    "    taxa_retorno = np.log(preco_final / preco_inicial) * 100   \n",
    "    taxas_retorno[coluna] = f'{taxa_retorno:.2f}'\n",
    "    #print(f\"A taxa de retorno para {coluna} é: {taxa_retorno:.2f}%\")\n",
    "\n",
    "df = pd.DataFrame.from_dict(taxas_retorno, orient='index', columns=['Taxa de Retorno logarítmica'])\n",
    "\n",
    "# Transpõe o DataFrame\n",
    "df = df.transpose()\n",
    "df"
   ]
  },
  {
   "cell_type": "code",
   "execution_count": 16,
   "id": "5ff42a55",
   "metadata": {
    "ExecuteTime": {
     "end_time": "2023-04-19T12:45:08.757753Z",
     "start_time": "2023-04-19T12:45:08.283945Z"
    }
   },
   "outputs": [
    {
     "data": {
      "image/png": "[encoded data removed]",
      "text/plain": [
       "<Figure size 1080x360 with 1 Axes>"
      ]
     },
     "metadata": {
      "needs_background": "light"
     },
     "output_type": "display_data"
    }
   ],
   "source": [
    "# Gráfico - Coeficiente de variação\n",
    "\n",
    "# cria uma figura\n",
    "fig, axs = plt.subplots(figsize=(15,5))\n",
    "\n",
    "# converter colunas para float e arredondar para int\n",
    "df = df.astype(float)\n",
    "\n",
    "# adiciona um gráfico de barras para cada coluna\n",
    "axs.bar(df.columns, df.iloc[0],color=np.where(df.iloc[0]<0, 'red', 'blue'))\n",
    "#axs.set_title('ATIVOS', y=1.05)\n",
    "axs.axhline(y=0, color='black', linewidth=1) # Adiciona uma linha para separar as barras positivas das negativas\n",
    "axs.spines['top'].set_visible(False) # remove a borda superior\n",
    "axs.spines['right'].set_visible(False) # remove a borda direita\n",
    "axs.spines['bottom'].set_visible(False) # remove a borda inferior\n",
    "axs.spines['left'].set_visible(False) # remove a borda esquerda\n",
    "axs.set_yticklabels([]) # remove os valores do eixo y\n",
    "axs.tick_params(axis='both', which='both', length=0) # remove os ticks\n",
    "axs.set_xticklabels(df.columns,fontsize=12) # tamanho dos valores do eixo x\n",
    "\n",
    "#axs.set_xlabel('Ações', fontsize=12)\n",
    "#axs.set_ylabel('Coeficiente de Variação ', fontsize=12)\n",
    "\n",
    "# adiciona rótulos às barras\n",
    "for i, v in enumerate(axs.patches):\n",
    "    if v.get_height() >= 0:\n",
    "        axs.text(v.get_x() + v.get_width() / 2, v.get_height() + 1, f'{v.get_height():.1f}%', ha='center', \n",
    "                va='bottom', color='blue', fontsize=12)\n",
    "    else:\n",
    "        axs.text(v.get_x() + v.get_width() / 2, v.get_height() - 2, f'{v.get_height():.1f}%', ha='center', \n",
    "                va='top', color='red', fontsize=12)\n",
    "\n",
    "# ajusta o espaçamento entre os subplots e adiciona um título\n",
    "fig.suptitle('Taxa de Retorno logarítmica',fontsize=15, fontweight='bold', color='black', y=1.00, \n",
    "             x= 0.10, horizontalalignment='left')\n",
    "fig.subplots_adjust(top=0.75)\n",
    "\n",
    "plt.savefig('Imagens/TaxaRetornoLogAtivos.png', bbox_inches='tight')\n",
    "\n",
    "plt.show()"
   ]
  },
  {
   "cell_type": "markdown",
   "id": "31319429",
   "metadata": {},
   "source": [
    "**Nota:**\n",
    "- A taxa de retorno logarítmica é uma medida de desempenho que leva em consideração o preço de fechamento da ação e o preço de abertura. Uma taxa de retorno logarítmica positiva indica que o preço da ação aumentou ao longo do ano, enquanto uma taxa de retorno logarítmica negativa indica que o preço da ação diminuiu.\n",
    "- Podemos ver que a GOL e a CVC tiveram taxas de retorno logarítmica negativas, o que significa que essas ações perderam valor ao longo do ano.\n",
    "- Já a WEGE e a MGLU tiveram taxas de retorno logarítmica positivas muito elevadas, o que significa que essas ações tiveram um desempenho muito bom no período analisado.\n",
    "- TOTS e BOVA tiveram taxas de retorno logarítmica positivas, mas mais modestas do que WEGE e MGLU."
   ]
  },
  {
   "cell_type": "code",
   "execution_count": 17,
   "id": "cf9c10fe",
   "metadata": {
    "ExecuteTime": {
     "end_time": "2023-04-19T12:45:08.788650Z",
     "start_time": "2023-04-19T12:45:08.762728Z"
    }
   },
   "outputs": [
    {
     "data": {
      "text/plain": [
       "(14.989999771118164, 7.340000152587891)"
      ]
     },
     "execution_count": 17,
     "metadata": {},
     "output_type": "execute_result"
    }
   ],
   "source": [
    "# Buscando os primeiros registros e os últimos\n",
    "dataset['GOL'][0], dataset['GOL'][len(dataset) - 1]"
   ]
  },
  {
   "cell_type": "code",
   "execution_count": 18,
   "id": "07984fe0",
   "metadata": {
    "ExecuteTime": {
     "end_time": "2023-04-19T12:45:08.819631Z",
     "start_time": "2023-04-19T12:45:08.794648Z"
    }
   },
   "outputs": [
    {
     "data": {
      "text/plain": [
       "-71.4044433430573"
      ]
     },
     "execution_count": 18,
     "metadata": {},
     "output_type": "execute_result"
    }
   ],
   "source": [
    "np.log(7.340000152587891/14.989999771118164)*100"
   ]
  },
  {
   "cell_type": "code",
   "execution_count": 19,
   "id": "c75bda50",
   "metadata": {
    "ExecuteTime": {
     "end_time": "2023-04-19T12:45:08.850615Z",
     "start_time": "2023-04-19T12:45:08.826627Z"
    }
   },
   "outputs": [
    {
     "data": {
      "text/plain": [
       "-71.4044433430573"
      ]
     },
     "execution_count": 19,
     "metadata": {},
     "output_type": "execute_result"
    }
   ],
   "source": [
    "# Cálculo da taxa de retorno logarítmica\n",
    "np.log(dataset['GOL'][len(dataset) - 1] / dataset['GOL'][0]) * 100"
   ]
  },
  {
   "cell_type": "code",
   "execution_count": 20,
   "id": "c52d6dea",
   "metadata": {
    "ExecuteTime": {
     "end_time": "2023-04-19T12:45:08.881597Z",
     "start_time": "2023-04-19T12:45:08.856614Z"
    }
   },
   "outputs": [
    {
     "data": {
      "text/plain": [
       "(1738    12.87\n",
       " Name: CVC, dtype: float64,\n",
       " 1987    4.49\n",
       " Name: CVC, dtype: float64)"
      ]
     },
     "execution_count": 20,
     "metadata": {},
     "output_type": "execute_result"
    }
   ],
   "source": [
    "# Aplicando o filtro para selecionar a primeira e a última data da base de dados com o preço\n",
    "dataset['CVC'][dataset['Date'] == '2022-01-03'], dataset['CVC'][dataset['Date'] == '2022-12-29']"
   ]
  },
  {
   "cell_type": "code",
   "execution_count": 21,
   "id": "e27e3989",
   "metadata": {
    "ExecuteTime": {
     "end_time": "2023-04-19T12:45:08.913131Z",
     "start_time": "2023-04-19T12:45:08.885595Z"
    }
   },
   "outputs": [
    {
     "data": {
      "text/plain": [
       "-105.30463198538722"
      ]
     },
     "execution_count": 21,
     "metadata": {},
     "output_type": "execute_result"
    }
   ],
   "source": [
    "# A fórmula para o cálculo da taxa de retorno logarítmica é: (Valor Final / Valor Inicial) x 100%\n",
    "np.log(4.49 / 12.87) * 100"
   ]
  },
  {
   "cell_type": "code",
   "execution_count": 22,
   "id": "9010575d",
   "metadata": {
    "ExecuteTime": {
     "end_time": "2023-04-19T12:45:08.993089Z",
     "start_time": "2023-04-19T12:45:08.916133Z"
    }
   },
   "outputs": [
    {
     "name": "stdout",
     "output_type": "stream",
     "text": [
      "Taxa de Retorno por Empresa e por Ano:\n"
     ]
    },
    {
     "data": {
      "text/html": [
       "<div>\n",
       "<style scoped>\n",
       "    .dataframe tbody tr th:only-of-type {\n",
       "        vertical-align: middle;\n",
       "    }\n",
       "\n",
       "    .dataframe tbody tr th {\n",
       "        vertical-align: top;\n",
       "    }\n",
       "\n",
       "    .dataframe thead th {\n",
       "        text-align: right;\n",
       "    }\n",
       "</style>\n",
       "<table border=\"1\" class=\"dataframe\">\n",
       "  <thead>\n",
       "    <tr style=\"text-align: right;\">\n",
       "      <th></th>\n",
       "      <th>year</th>\n",
       "      <th>GOL</th>\n",
       "      <th>CVC</th>\n",
       "      <th>WEGE</th>\n",
       "      <th>MGLU</th>\n",
       "      <th>TOTS</th>\n",
       "      <th>BOVA</th>\n",
       "    </tr>\n",
       "  </thead>\n",
       "  <tbody>\n",
       "    <tr>\n",
       "      <th>0</th>\n",
       "      <td>2015</td>\n",
       "      <td>-178.312440</td>\n",
       "      <td>-11.860573</td>\n",
       "      <td>-2.965608</td>\n",
       "      <td>-121.692221</td>\n",
       "      <td>-14.299333</td>\n",
       "      <td>-11.490413</td>\n",
       "    </tr>\n",
       "    <tr>\n",
       "      <th>1</th>\n",
       "      <td>2016</td>\n",
       "      <td>65.076790</td>\n",
       "      <td>63.734933</td>\n",
       "      <td>5.708249</td>\n",
       "      <td>177.745281</td>\n",
       "      <td>-24.421777</td>\n",
       "      <td>34.856435</td>\n",
       "    </tr>\n",
       "    <tr>\n",
       "      <th>2</th>\n",
       "      <td>2017</td>\n",
       "      <td>117.472435</td>\n",
       "      <td>74.520037</td>\n",
       "      <td>46.793190</td>\n",
       "      <td>184.209052</td>\n",
       "      <td>23.670102</td>\n",
       "      <td>24.758641</td>\n",
       "    </tr>\n",
       "    <tr>\n",
       "      <th>3</th>\n",
       "      <td>2018</td>\n",
       "      <td>50.223057</td>\n",
       "      <td>20.420020</td>\n",
       "      <td>-9.282715</td>\n",
       "      <td>82.564540</td>\n",
       "      <td>-10.480793</td>\n",
       "      <td>11.911371</td>\n",
       "    </tr>\n",
       "    <tr>\n",
       "      <th>4</th>\n",
       "      <td>2019</td>\n",
       "      <td>36.878205</td>\n",
       "      <td>-33.287804</td>\n",
       "      <td>65.632628</td>\n",
       "      <td>71.868010</td>\n",
       "      <td>81.418491</td>\n",
       "      <td>23.540034</td>\n",
       "    </tr>\n",
       "    <tr>\n",
       "      <th>5</th>\n",
       "      <td>2020</td>\n",
       "      <td>-39.902897</td>\n",
       "      <td>-77.587744</td>\n",
       "      <td>76.512455</td>\n",
       "      <td>70.463576</td>\n",
       "      <td>21.992798</td>\n",
       "      <td>0.358254</td>\n",
       "    </tr>\n",
       "    <tr>\n",
       "      <th>6</th>\n",
       "      <td>2021</td>\n",
       "      <td>-34.140920</td>\n",
       "      <td>-40.745022</td>\n",
       "      <td>-12.336012</td>\n",
       "      <td>-124.998910</td>\n",
       "      <td>3.120818</td>\n",
       "      <td>-12.384919</td>\n",
       "    </tr>\n",
       "    <tr>\n",
       "      <th>7</th>\n",
       "      <td>2022</td>\n",
       "      <td>-82.446219</td>\n",
       "      <td>-105.304636</td>\n",
       "      <td>18.455718</td>\n",
       "      <td>-89.713020</td>\n",
       "      <td>0.435417</td>\n",
       "      <td>5.849731</td>\n",
       "    </tr>\n",
       "  </tbody>\n",
       "</table>\n",
       "</div>"
      ],
      "text/plain": [
       "   year         GOL         CVC       WEGE        MGLU       TOTS       BOVA\n",
       "0  2015 -178.312440  -11.860573  -2.965608 -121.692221 -14.299333 -11.490413\n",
       "1  2016   65.076790   63.734933   5.708249  177.745281 -24.421777  34.856435\n",
       "2  2017  117.472435   74.520037  46.793190  184.209052  23.670102  24.758641\n",
       "3  2018   50.223057   20.420020  -9.282715   82.564540 -10.480793  11.911371\n",
       "4  2019   36.878205  -33.287804  65.632628   71.868010  81.418491  23.540034\n",
       "5  2020  -39.902897  -77.587744  76.512455   70.463576  21.992798   0.358254\n",
       "6  2021  -34.140920  -40.745022 -12.336012 -124.998910   3.120818 -12.384919\n",
       "7  2022  -82.446219 -105.304636  18.455718  -89.713020   0.435417   5.849731"
      ]
     },
     "metadata": {},
     "output_type": "display_data"
    }
   ],
   "source": [
    "# Busca os dados de fechamento do ativo\n",
    "df_preco = dataset[['year','GOL', 'CVC', 'WEGE', 'MGLU', 'TOTS', 'BOVA']]\n",
    "\n",
    "# Agrupa os preços de fechamento por ano e calcula a Taxa de Retorno\n",
    "TRS_year = pd.DataFrame()\n",
    "for year, data in df_preco.groupby('year'):\n",
    "    year = pd.to_datetime(data['year'].iloc[0], format='%Y')\n",
    "    TRS = np.log(data.iloc[-1] / data.iloc[0])* 100\n",
    "    TRS.name = year.year\n",
    "    TRS_year = pd.concat([TRS_year, TRS], axis=1)\n",
    "\n",
    "# Remove a primeira linha do DataFrame\n",
    "TRS_year = TRS_year.iloc[1:]\n",
    "\n",
    "# Transpõe o DataFrame\n",
    "gb_year = TRS_year.transpose()\n",
    "\n",
    "# Reseta o índice e renomeia a coluna de índice para \"year\"\n",
    "gb_year = gb_year.reset_index().rename(columns={'index': 'year'})\n",
    "\n",
    "# Imprime a TRS por empresa e por ano\n",
    "print(\"Taxa de Retorno por Empresa e por Ano:\")\n",
    "display(gb_year)"
   ]
  },
  {
   "cell_type": "markdown",
   "id": "c11c3f21",
   "metadata": {},
   "source": [
    "**Nota:**\n",
    "- Se estivesse comprado uma ação dessas empresas no início de 2015 e vendido, estariamos no prejuízo:\n",
    "    - -11% na CVC\n",
    "    - -121% na MGLU\n",
    "    \n",
    "    \n",
    "- A empresa MGLU apresentou uma taxa de retorno bastante alta em 2016, 2017 e 2019, mas uma queda significativa em 2021, o que pode ter impactado no desempenho geral do investimento."
   ]
  },
  {
   "cell_type": "code",
   "execution_count": 23,
   "id": "ab5d6652",
   "metadata": {
    "ExecuteTime": {
     "end_time": "2023-04-19T12:45:11.410849Z",
     "start_time": "2023-04-19T12:45:08.998087Z"
    }
   },
   "outputs": [
    {
     "data": {
      "image/png": "[encoded data removed]",
      "text/plain": [
       "<Figure size 1080x576 with 6 Axes>"
      ]
     },
     "metadata": {
      "needs_background": "light"
     },
     "output_type": "display_data"
    }
   ],
   "source": [
    "# Gráfico Agrupando por Ano - Taxa de Retorno Logarítmica por Empresa\n",
    "\n",
    "# cria uma figura com 6 subplots (1 por coluna)\n",
    "fig, axs = plt.subplots(nrows=2, ncols=3, figsize=(15,8))\n",
    "\n",
    "# adiciona um gráfico de barras para cada coluna\n",
    "axs[0][0].bar(gb_year['year'], gb_year['GOL'],color=np.where(gb_year['GOL']<0, 'red', 'blue'))\n",
    "axs[0][0].set_title('GOL')\n",
    "axs[0][0].axhline(y=0, color='black', linewidth=1) # Adiciona uma linha para separar as barras positivas das negativas\n",
    "axs[0][0].spines['top'].set_visible(False) # remove a borda superior\n",
    "axs[0][0].spines['right'].set_visible(False) # remove a borda direita\n",
    "axs[0][0].spines['bottom'].set_visible(False) # remove a borda inferior\n",
    "axs[0][0].spines['left'].set_visible(False) # remove a borda esquerda\n",
    "axs[0][0].set_yticklabels([]) # remove os valores do eixo y\n",
    "axs[0][0].tick_params(axis='both', which='both', length=0) # remove os ticks\n",
    "\n",
    "axs[0][1].bar(gb_year['year'], gb_year['CVC'],color=np.where(gb_year['CVC']<0, 'red', 'blue'))\n",
    "axs[0][1].set_title('CVC')\n",
    "axs[0][1].axhline(y=0, color='black', linewidth=1) # Adiciona uma linha para separar as barras positivas das negativas\n",
    "axs[0][1].spines['top'].set_visible(False) # remove a borda superior\n",
    "axs[0][1].spines['right'].set_visible(False) # remove a borda direita\n",
    "axs[0][1].spines['bottom'].set_visible(False) # remove a borda inferior\n",
    "axs[0][1].spines['left'].set_visible(False) # remove a borda esquerda\n",
    "axs[0][1].set_yticklabels([]) # remove os valores do eixo y\n",
    "axs[0][1].tick_params(axis='both', which='both', length=0) # remove os ticks\n",
    "\n",
    "axs[0][2].bar(gb_year['year'], gb_year['WEGE'],color=np.where(gb_year['WEGE']<0, 'red', 'blue'))\n",
    "axs[0][2].set_title('WEGE')\n",
    "axs[0][2].axhline(y=0, color='black', linewidth=1) # Adiciona uma linha para separar as barras positivas das negativas\n",
    "axs[0][2].spines['top'].set_visible(False) # remove a borda superior\n",
    "axs[0][2].spines['right'].set_visible(False) # remove a borda direita\n",
    "axs[0][2].spines['bottom'].set_visible(False) # remove a borda inferior\n",
    "axs[0][2].spines['left'].set_visible(False) # remove a borda esquerda\n",
    "axs[0][2].set_yticklabels([]) # remove os valores do eixo y\n",
    "axs[0][2].tick_params(axis='both', which='both', length=0) # remove os ticks\n",
    "\n",
    "axs[1][0].bar(gb_year['year'], gb_year['MGLU'],color=np.where(gb_year['MGLU']<0, 'red', 'blue'))\n",
    "axs[1][0].set_title('MGLU')\n",
    "axs[1][0].axhline(y=0, color='black', linewidth=1) # Adiciona uma linha para separar as barras positivas das negativas\n",
    "axs[1][0].spines['top'].set_visible(False) # remove a borda superior\n",
    "axs[1][0].spines['right'].set_visible(False) # remove a borda direita\n",
    "axs[1][0].spines['bottom'].set_visible(False) # remove a borda inferior\n",
    "axs[1][0].spines['left'].set_visible(False) # remove a borda esquerda\n",
    "axs[1][0].set_yticklabels([]) # remove os valores do eixo y\n",
    "axs[1][0].tick_params(axis='both', which='both', length=0) # remove os ticks\n",
    "\n",
    "axs[1][1].bar(gb_year['year'], gb_year['TOTS'],color=np.where(gb_year['TOTS']<0, 'red', 'blue'))\n",
    "axs[1][1].set_title('TOTS')\n",
    "axs[1][1].axhline(y=0, color='black', linewidth=1) # Adiciona uma linha para separar as barras positivas das negativas\n",
    "axs[1][1].spines['top'].set_visible(False) # remove a borda superior\n",
    "axs[1][1].spines['right'].set_visible(False) # remove a borda direita\n",
    "axs[1][1].spines['bottom'].set_visible(False) # remove a borda inferior\n",
    "axs[1][1].spines['left'].set_visible(False) # remove a borda esquerda\n",
    "axs[1][1].set_yticklabels([]) # remove os valores do eixo y\n",
    "axs[1][1].tick_params(axis='both', which='both', length=0) # remove os ticks\n",
    "\n",
    "axs[1][2].bar(gb_year['year'], gb_year['BOVA'],color=np.where(gb_year['BOVA']<0, 'red', 'blue'))\n",
    "axs[1][2].set_title('BOVA')\n",
    "axs[1][2].axhline(y=0, color='black', linewidth=1) # Adiciona uma linha para separar as barras positivas das negativas\n",
    "axs[1][2].spines['top'].set_visible(False) # remove a borda superior\n",
    "axs[1][2].spines['right'].set_visible(False) # remove a borda direita\n",
    "axs[1][2].spines['bottom'].set_visible(False) # remove a borda inferior\n",
    "axs[1][2].spines['left'].set_visible(False) # remove a borda esquerda\n",
    "axs[1][2].set_yticklabels([]) # remove os valores do eixo y\n",
    "axs[1][2].tick_params(axis='both', which='both', length=0) # remove os ticks\n",
    "\n",
    "# adiciona rótulos às barras\n",
    "for ax in axs.flat:\n",
    "    for i, v in enumerate(ax.patches):\n",
    "        if v.get_height() >= 0:\n",
    "            ax.text(v.get_x() + v.get_width() / 2, v.get_height() + 1, f'{v.get_height():.1f}%', ha='center', \n",
    "                    va='bottom', color='blue', fontsize=8)\n",
    "        else:\n",
    "            ax.text(v.get_x() + v.get_width() / 2, v.get_height() - 2, f'{v.get_height():.1f}%', ha='center', \n",
    "                    va='top', color='red', fontsize=8)\n",
    "\n",
    "# ajusta o espaçamento entre os subplots e adiciona um título\n",
    "plt.subplots_adjust(hspace=0.3)\n",
    "fig.suptitle('Taxa de Retornos Anuais por Empresa\\nPandemia 2020 - 2022',fontsize=15,fontweight='bold')\n",
    "\n",
    "plt.savefig('Imagens/TaxasRetornosAnuaisEmpresaAno.png', bbox_inches='tight')\n",
    "\n",
    "plt.show()"
   ]
  },
  {
   "cell_type": "markdown",
   "id": "523941cf",
   "metadata": {},
   "source": [
    "**Nota:**\n",
    "- Vamos usar a variância e o desvio padrão parar interpretar a volatilidade dos retornos anuais de um investimento.\n",
    "- Para calcular a variância e o desvio padrão dos retornos anuais, é necessário antes calcular os retornos anuais.\n",
    "\n",
    "<p>O cálculo da variância e do desvio padrão são medidas que ajudam a interpretar a volatilidade dos retornos anuais de um investimento, mas não são necessários para calcular o retorno anual em si.</p>\n",
    "\n",
    "<p>Por exemplo, você pode calcular o retorno anual de um investimento sem necessariamente calcular a variância ou o desvio padrão. No entanto, ao avaliar a rentabilidade e o risco de um investimento, é útil considerar não apenas o retorno, mas também a volatilidade dos retornos. Nesse caso, o cálculo da variância e do desvio padrão podem ser úteis.</p>\n",
    "\n",
    "- Portanto, para calcular o risco médio anual das ações, é necessário primeiro calcular os retornos anuais de cada ação, e depois calcular a variância e o desvio padrão desses retornos para avaliar a volatilidade e o risco associado a cada ação."
   ]
  },
  {
   "cell_type": "markdown",
   "id": "5739c13c",
   "metadata": {},
   "source": [
    "### <font color='#F37126'> 4.2. Cálculo dos retornos anuais - Variância"
   ]
  },
  {
   "cell_type": "markdown",
   "id": "71873682",
   "metadata": {},
   "source": [
    "O cálculo da variância, vai mostrar o quanto os dados estão variando com relação a média, ou seja, a variância é uma medida que mostra o quanto os retornos de um investimento variam em relação à sua média e para isso vamos utlizar as taxas de retorno aunais, que foi feito os cálculos."
   ]
  },
  {
   "cell_type": "markdown",
   "id": "5f52722a",
   "metadata": {},
   "source": [
    "- Quando o investidor vai fazer análise de ações, caso ele seja uma pessoa, que não queira correr muitos riscos, ele vai buscar ações com uma variância menor, isso indica que não existe uma volatividade muito grande nos preços.\n",
    "- Este cálculo da variância não vai indicar que se uma ação é boa ou ruim, mas vai indicar que existe uma grande volatilidade nessa ação, que consequentemente pode indicar mais riscosm seja para perder mais dinheiro ou ganhar mais dinheiro. "
   ]
  },
  {
   "cell_type": "code",
   "execution_count": 24,
   "id": "e7cc696c",
   "metadata": {
    "ExecuteTime": {
     "end_time": "2023-04-19T12:45:11.458323Z",
     "start_time": "2023-04-19T12:45:11.416826Z"
    }
   },
   "outputs": [
    {
     "data": {
      "text/html": [
       "<div>\n",
       "<style scoped>\n",
       "    .dataframe tbody tr th:only-of-type {\n",
       "        vertical-align: middle;\n",
       "    }\n",
       "\n",
       "    .dataframe tbody tr th {\n",
       "        vertical-align: top;\n",
       "    }\n",
       "\n",
       "    .dataframe thead th {\n",
       "        text-align: right;\n",
       "    }\n",
       "</style>\n",
       "<table border=\"1\" class=\"dataframe\">\n",
       "  <thead>\n",
       "    <tr style=\"text-align: right;\">\n",
       "      <th></th>\n",
       "      <th>year</th>\n",
       "      <th>GOL</th>\n",
       "      <th>CVC</th>\n",
       "      <th>WEGE</th>\n",
       "      <th>MGLU</th>\n",
       "      <th>TOTS</th>\n",
       "      <th>BOVA</th>\n",
       "    </tr>\n",
       "  </thead>\n",
       "  <tbody>\n",
       "    <tr>\n",
       "      <th>0</th>\n",
       "      <td>2015</td>\n",
       "      <td>-178.312440</td>\n",
       "      <td>-11.860573</td>\n",
       "      <td>-2.965608</td>\n",
       "      <td>-121.692221</td>\n",
       "      <td>-14.299333</td>\n",
       "      <td>-11.490413</td>\n",
       "    </tr>\n",
       "    <tr>\n",
       "      <th>1</th>\n",
       "      <td>2016</td>\n",
       "      <td>65.076790</td>\n",
       "      <td>63.734933</td>\n",
       "      <td>5.708249</td>\n",
       "      <td>177.745281</td>\n",
       "      <td>-24.421777</td>\n",
       "      <td>34.856435</td>\n",
       "    </tr>\n",
       "    <tr>\n",
       "      <th>2</th>\n",
       "      <td>2017</td>\n",
       "      <td>117.472435</td>\n",
       "      <td>74.520037</td>\n",
       "      <td>46.793190</td>\n",
       "      <td>184.209052</td>\n",
       "      <td>23.670102</td>\n",
       "      <td>24.758641</td>\n",
       "    </tr>\n",
       "    <tr>\n",
       "      <th>3</th>\n",
       "      <td>2018</td>\n",
       "      <td>50.223057</td>\n",
       "      <td>20.420020</td>\n",
       "      <td>-9.282715</td>\n",
       "      <td>82.564540</td>\n",
       "      <td>-10.480793</td>\n",
       "      <td>11.911371</td>\n",
       "    </tr>\n",
       "    <tr>\n",
       "      <th>4</th>\n",
       "      <td>2019</td>\n",
       "      <td>36.878205</td>\n",
       "      <td>-33.287804</td>\n",
       "      <td>65.632628</td>\n",
       "      <td>71.868010</td>\n",
       "      <td>81.418491</td>\n",
       "      <td>23.540034</td>\n",
       "    </tr>\n",
       "    <tr>\n",
       "      <th>5</th>\n",
       "      <td>2020</td>\n",
       "      <td>-39.902897</td>\n",
       "      <td>-77.587744</td>\n",
       "      <td>76.512455</td>\n",
       "      <td>70.463576</td>\n",
       "      <td>21.992798</td>\n",
       "      <td>0.358254</td>\n",
       "    </tr>\n",
       "    <tr>\n",
       "      <th>6</th>\n",
       "      <td>2021</td>\n",
       "      <td>-34.140920</td>\n",
       "      <td>-40.745022</td>\n",
       "      <td>-12.336012</td>\n",
       "      <td>-124.998910</td>\n",
       "      <td>3.120818</td>\n",
       "      <td>-12.384919</td>\n",
       "    </tr>\n",
       "    <tr>\n",
       "      <th>7</th>\n",
       "      <td>2022</td>\n",
       "      <td>-82.446219</td>\n",
       "      <td>-105.304636</td>\n",
       "      <td>18.455718</td>\n",
       "      <td>-89.713020</td>\n",
       "      <td>0.435417</td>\n",
       "      <td>5.849731</td>\n",
       "    </tr>\n",
       "  </tbody>\n",
       "</table>\n",
       "</div>"
      ],
      "text/plain": [
       "   year         GOL         CVC       WEGE        MGLU       TOTS       BOVA\n",
       "0  2015 -178.312440  -11.860573  -2.965608 -121.692221 -14.299333 -11.490413\n",
       "1  2016   65.076790   63.734933   5.708249  177.745281 -24.421777  34.856435\n",
       "2  2017  117.472435   74.520037  46.793190  184.209052  23.670102  24.758641\n",
       "3  2018   50.223057   20.420020  -9.282715   82.564540 -10.480793  11.911371\n",
       "4  2019   36.878205  -33.287804  65.632628   71.868010  81.418491  23.540034\n",
       "5  2020  -39.902897  -77.587744  76.512455   70.463576  21.992798   0.358254\n",
       "6  2021  -34.140920  -40.745022 -12.336012 -124.998910   3.120818 -12.384919\n",
       "7  2022  -82.446219 -105.304636  18.455718  -89.713020   0.435417   5.849731"
      ]
     },
     "execution_count": 24,
     "metadata": {},
     "output_type": "execute_result"
    }
   ],
   "source": [
    "gb_year"
   ]
  },
  {
   "cell_type": "code",
   "execution_count": 25,
   "id": "4b6cee4b",
   "metadata": {
    "ExecuteTime": {
     "end_time": "2023-04-19T12:45:11.473893Z",
     "start_time": "2023-04-19T12:45:11.461897Z"
    }
   },
   "outputs": [],
   "source": [
    "varianca = gb_year[['GOL', 'CVC', 'WEGE', 'MGLU', 'TOTS', 'BOVA']].var()"
   ]
  },
  {
   "cell_type": "code",
   "execution_count": 26,
   "id": "3e2c9863",
   "metadata": {
    "ExecuteTime": {
     "end_time": "2023-04-19T12:45:11.504330Z",
     "start_time": "2023-04-19T12:45:11.479887Z"
    }
   },
   "outputs": [
    {
     "data": {
      "text/plain": [
       "GOL      8962.438618\n",
       "CVC      4076.377011\n",
       "WEGE     1218.480510\n",
       "MGLU    16159.302936\n",
       "TOTS     1109.232239\n",
       "BOVA      299.272943\n",
       "dtype: float64"
      ]
     },
     "execution_count": 26,
     "metadata": {},
     "output_type": "execute_result"
    }
   ],
   "source": [
    "varianca"
   ]
  },
  {
   "cell_type": "markdown",
   "id": "0e39d89f",
   "metadata": {},
   "source": [
    "**Nota:**\n",
    "- Estamos calculando o quanto cada uma das taxas de retorno estão se desviando da média, em outras palavras, a diferença entre valores é a média.\n",
    "- Através dos cálculos podemos perceber que a ação da MGLU apresenta um risco maior, porque a volatilidade desta ação neste período é muito maior."
   ]
  },
  {
   "cell_type": "code",
   "execution_count": 27,
   "id": "089a36f7",
   "metadata": {
    "ExecuteTime": {
     "end_time": "2023-04-19T12:45:11.536206Z",
     "start_time": "2023-04-19T12:45:11.515322Z"
    }
   },
   "outputs": [
    {
     "data": {
      "text/plain": [
       "(11.889514213600364, 2.066497580399315)"
      ]
     },
     "execution_count": 27,
     "metadata": {},
     "output_type": "execute_result"
    }
   ],
   "source": [
    "# utilizando o preço das ações e não a taxa de retorno (os últimos doze meses de 2022)\n",
    "dataset['CVC'].tail(250).var(), dataset['MGLU'].tail(250).var() "
   ]
  },
  {
   "cell_type": "markdown",
   "id": "bfe05530",
   "metadata": {},
   "source": [
    "**Nota:**\n",
    "- A variância da CVC é muito maior pelo fato de que quando ocorreu a pandemia em 2020, a ação da CVC caiu drasticamente, pois as pessoas passaram a parar de viajar e comprar pacotes de viajem."
   ]
  },
  {
   "cell_type": "markdown",
   "id": "04f16491",
   "metadata": {},
   "source": [
    "### <font color='#F37126'> 4.3. Cálculo dos retornos anuais - Desvio padrão"
   ]
  },
  {
   "cell_type": "markdown",
   "id": "7ffa7f8f",
   "metadata": {},
   "source": [
    "<p>O cálculo dos retornos anuais usando o desvio padrão é um método de análise que leva em consideração a volatilidade dos retornos ao longo do tempo. Nesse método, os retornos de cada ano são calculados, e em seguida, a média e o desvio padrão dos retornos são calculados para cada ativo financeiro. A partir desses valores, é possível calcular a volatilidade anual e avaliar o risco associado a cada ativo financeiro.</p>\n",
    "<p>Estamos calculando o desvio padrão anual dos retornos de cada ação. Isso nos dá uma ideia da volatilidade anual de cada ação e, portanto, do risco anual associado a cada ação.</p>\n",
    "\n",
    "- Esse método olha para a volatilidade dos retornos.\n",
    "- Isso pode ajudar a identificar quais ações têm uma maior variação em seus retornos anuais em relação às outras."
   ]
  },
  {
   "cell_type": "markdown",
   "id": "641fe1e5",
   "metadata": {},
   "source": [
    "É errado afirmar que temos uma taxa de retorno somente com o cálculo da variância, porque temos os valores elevados ao quadrado, para isso usamos o desvio padrão para ajudar na interpretação, ou seja, o desvio padrão é a raiz quadrada da variância e mostra a dispersão dos retornos em relação à sua média.\n",
    "- Quanto maior o desvio padrão, teoricamente mais risco essa ação apresenta, pois ela tem uma variação maior.\n",
    "- O desvio padrão basicamente é calcular a raiz quadrada da variância.\n",
    "\n",
    "- Por exemplo:\n",
    "    - A variância da CVC é de: 4076.38\n",
    "    - Aplicando o desvio padrão passa a ser: 63.85\n",
    "    \n",
    "Agora podemos afirmar que a variância da taxa de retorno da empresa CVC no período de 2015 até o período de 2022 é de 63.85%."
   ]
  },
  {
   "cell_type": "code",
   "execution_count": 28,
   "id": "3898ae52",
   "metadata": {
    "ExecuteTime": {
     "end_time": "2023-04-19T12:45:11.567304Z",
     "start_time": "2023-04-19T12:45:11.542209Z"
    }
   },
   "outputs": [
    {
     "name": "stdout",
     "output_type": "stream",
     "text": [
      "Desvio padrão da coluna GOL: 94.67015695787798\n",
      "Desvio padrão da coluna CVC: 63.846511348021465\n",
      "Desvio padrão da coluna WEGE: 34.90674018130634\n",
      "Desvio padrão da coluna MGLU: 127.11924691308771\n",
      "Desvio padrão da coluna TOTS: 33.30513832357836\n",
      "Desvio padrão da coluna BOVA: 17.299507010232215\n"
     ]
    }
   ],
   "source": [
    "# iterar sobre as colunas do dataframe e calcular o desvio padrão de cada coluna\n",
    "for column in gb_year.columns[1:]:\n",
    "    std_devs = math.sqrt(gb_year[column].var())\n",
    "    print(f\"Desvio padrão da coluna {column}: {std_devs}\")"
   ]
  },
  {
   "cell_type": "code",
   "execution_count": 29,
   "id": "6685d267",
   "metadata": {
    "ExecuteTime": {
     "end_time": "2023-04-19T12:45:11.598154Z",
     "start_time": "2023-04-19T12:45:11.572308Z"
    }
   },
   "outputs": [],
   "source": [
    "# criar uma lista vazia para armazenar os desvios padrão de cada coluna\n",
    "std_devs_list = []\n",
    "\n",
    "# iterar sobre as colunas do dataframe e calcular o desvio padrão de cada coluna\n",
    "for column in gb_year.columns[1:]:\n",
    "    std_devs = math.sqrt(gb_year[column].var())\n",
    "    std_devs_list.append(std_devs)\n",
    "\n",
    "# Criar um dataframe com as colunas e valores desejados\n",
    "std_devs_df = pd.DataFrame({'GOL': [std_devs_list[0]],\n",
    "                            'CVC': [std_devs_list[1]],\n",
    "                            'WEGE': [std_devs_list[2]],\n",
    "                            'MGLU': [std_devs_list[3]],\n",
    "                            'TOTS': [std_devs_list[4]],\n",
    "                            'BOVA': [std_devs_list[5]]})"
   ]
  },
  {
   "cell_type": "code",
   "execution_count": 30,
   "id": "87b396e8",
   "metadata": {
    "ExecuteTime": {
     "end_time": "2023-04-19T12:45:11.630209Z",
     "start_time": "2023-04-19T12:45:11.601225Z"
    }
   },
   "outputs": [
    {
     "data": {
      "text/html": [
       "<div>\n",
       "<style scoped>\n",
       "    .dataframe tbody tr th:only-of-type {\n",
       "        vertical-align: middle;\n",
       "    }\n",
       "\n",
       "    .dataframe tbody tr th {\n",
       "        vertical-align: top;\n",
       "    }\n",
       "\n",
       "    .dataframe thead th {\n",
       "        text-align: right;\n",
       "    }\n",
       "</style>\n",
       "<table border=\"1\" class=\"dataframe\">\n",
       "  <thead>\n",
       "    <tr style=\"text-align: right;\">\n",
       "      <th></th>\n",
       "      <th>GOL</th>\n",
       "      <th>CVC</th>\n",
       "      <th>WEGE</th>\n",
       "      <th>MGLU</th>\n",
       "      <th>TOTS</th>\n",
       "      <th>BOVA</th>\n",
       "    </tr>\n",
       "  </thead>\n",
       "  <tbody>\n",
       "    <tr>\n",
       "      <th>0</th>\n",
       "      <td>94.670157</td>\n",
       "      <td>63.846511</td>\n",
       "      <td>34.90674</td>\n",
       "      <td>127.119247</td>\n",
       "      <td>33.305138</td>\n",
       "      <td>17.299507</td>\n",
       "    </tr>\n",
       "  </tbody>\n",
       "</table>\n",
       "</div>"
      ],
      "text/plain": [
       "         GOL        CVC      WEGE        MGLU       TOTS       BOVA\n",
       "0  94.670157  63.846511  34.90674  127.119247  33.305138  17.299507"
      ]
     },
     "execution_count": 30,
     "metadata": {},
     "output_type": "execute_result"
    }
   ],
   "source": [
    "std_devs_df"
   ]
  },
  {
   "cell_type": "code",
   "execution_count": 31,
   "id": "d65d3295",
   "metadata": {
    "ExecuteTime": {
     "end_time": "2023-04-19T12:45:12.057856Z",
     "start_time": "2023-04-19T12:45:11.635206Z"
    }
   },
   "outputs": [
    {
     "data": {
      "image/png": "[encoded data removed]",
      "text/plain": [
       "<Figure size 720x360 with 1 Axes>"
      ]
     },
     "metadata": {
      "needs_background": "light"
     },
     "output_type": "display_data"
    }
   ],
   "source": [
    "# Crie um objeto subplot\n",
    "fig, ax = plt.subplots(figsize=(10, 5))\n",
    "\n",
    "# Defina o título do gráfico e dos eixos\n",
    "plt.suptitle('Desvio Padrão dos Ativos', fontsize=20, x=0.10, horizontalalignment='left')\n",
    "\n",
    "# Crie o gráfico de barras\n",
    "plt.bar(std_devs_df.columns, std_devs_df.iloc[0], color=mcolors.CSS4_COLORS['cornflowerblue'])\n",
    "\n",
    "# Adicione anotações com os valores das barras\n",
    "for i, v in enumerate(std_devs_df.iloc[0]):\n",
    "    plt.annotate('{:.2f}%'.format(v), \n",
    "                 xy=(i, v),\n",
    "                 xytext=(0,10),\n",
    "                 textcoords='offset points',\n",
    "                 ha='center', va='bottom', \n",
    "                 fontsize=10, \n",
    "                 color='black')\n",
    "\n",
    "# Configure o gráfico\n",
    "plt.xlabel('Ativos', fontsize=12)\n",
    "plt.ylabel('Desvio Padrão', fontsize=12)\n",
    "plt.xticks(rotation=45, ha='right')\n",
    "plt.yticks([])\n",
    "\n",
    "ax.spines['top'].set_visible(False)\n",
    "ax.spines['right'].set_visible(False)\n",
    "ax.spines['left'].set_visible(False)\n",
    "\n",
    "plt.savefig('Imagens/DesvioAtivos.png', bbox_inches='tight')\n",
    "\n",
    "# Exiba o gráfico\n",
    "plt.show()"
   ]
  },
  {
   "cell_type": "markdown",
   "id": "e9b656ef",
   "metadata": {},
   "source": [
    "**Nota:**\n",
    "- Com este resultado podemos afirmar que a taxa de retorno da MGLU neste período é de 127%.\n",
    "- É errado afirmar que a taxa de retorno é  16159.30%, mas é correto afirmar que a taxa de retorno nesse período possui uma volatilidade de 127%."
   ]
  },
  {
   "cell_type": "code",
   "execution_count": 32,
   "id": "9cfa2a28",
   "metadata": {
    "ExecuteTime": {
     "end_time": "2023-04-19T12:45:12.089617Z",
     "start_time": "2023-04-19T12:45:12.062849Z"
    }
   },
   "outputs": [
    {
     "data": {
      "text/plain": [
       "(3.4481174883696126, 1.4375317667444134)"
      ]
     },
     "execution_count": 32,
     "metadata": {},
     "output_type": "execute_result"
    }
   ],
   "source": [
    "# utilizando o preço das ações e não a taxa de retorno (os últimos doze meses de 2022)\n",
    "dataset['CVC'].tail(250).std(), dataset['MGLU'].tail(250).std()"
   ]
  },
  {
   "cell_type": "markdown",
   "id": "5730abcf",
   "metadata": {},
   "source": [
    "**Nota:**\n",
    "\n",
    "\n",
    "Aqui estamos considerando os preços das ações.\n",
    "- Esse valor de 3 reais e 44 centavos, indica que nos últimos 250 dias, houve uma vairação para cima ou para baixo de 3.44, na ação da CVC.\n",
    "- Na ação da Magalu teve uma menor vairação de 1 real e 43 centavos.\n",
    "- Com isso, podemos utlizar o desvio padrão para verificar qual ação que tem uma volatilidade maior."
   ]
  },
  {
   "cell_type": "markdown",
   "id": "3c437508",
   "metadata": {},
   "source": [
    "### <font color='#F37126'> 4.4. Coeficiente de variação"
   ]
  },
  {
   "cell_type": "markdown",
   "id": "bc477774",
   "metadata": {},
   "source": [
    "- O coeficiente de variação, vai indicar qual é a variação em porcentagem.\n",
    "- Por exemplo:\n",
    "    - Se a taxa de retorno de uma ação valia 1% ao ano ou 10%.\n",
    "    \n",
    "- Para o cálculo precisamos do valor do desvio padrão e da média"
   ]
  },
  {
   "cell_type": "code",
   "execution_count": 33,
   "id": "67222f58",
   "metadata": {
    "ExecuteTime": {
     "end_time": "2023-04-19T12:45:12.121601Z",
     "start_time": "2023-04-19T12:45:12.093616Z"
    }
   },
   "outputs": [
    {
     "data": {
      "text/html": [
       "<div>\n",
       "<style scoped>\n",
       "    .dataframe tbody tr th:only-of-type {\n",
       "        vertical-align: middle;\n",
       "    }\n",
       "\n",
       "    .dataframe tbody tr th {\n",
       "        vertical-align: top;\n",
       "    }\n",
       "\n",
       "    .dataframe thead th {\n",
       "        text-align: right;\n",
       "    }\n",
       "</style>\n",
       "<table border=\"1\" class=\"dataframe\">\n",
       "  <thead>\n",
       "    <tr style=\"text-align: right;\">\n",
       "      <th></th>\n",
       "      <th>GOL</th>\n",
       "      <th>CVC</th>\n",
       "      <th>WEGE</th>\n",
       "      <th>MGLU</th>\n",
       "      <th>TOTS</th>\n",
       "      <th>BOVA</th>\n",
       "    </tr>\n",
       "  </thead>\n",
       "  <tbody>\n",
       "    <tr>\n",
       "      <th>0</th>\n",
       "      <td>-1087.375216</td>\n",
       "      <td>-433.911652</td>\n",
       "      <td>138.564093</td>\n",
       "      <td>379.831249</td>\n",
       "      <td>306.048532</td>\n",
       "      <td>167.259827</td>\n",
       "    </tr>\n",
       "  </tbody>\n",
       "</table>\n",
       "</div>"
      ],
      "text/plain": [
       "           GOL         CVC        WEGE        MGLU        TOTS        BOVA\n",
       "0 -1087.375216 -433.911652  138.564093  379.831249  306.048532  167.259827"
      ]
     },
     "execution_count": 33,
     "metadata": {},
     "output_type": "execute_result"
    }
   ],
   "source": [
    "# criar uma lista vazia para armazenar os desvios padrão de cada coluna\n",
    "coeficiente_variacao = []\n",
    "\n",
    "# iterar sobre as colunas do dataframe e calcular o desvio padrão de cada coluna\n",
    "for column in gb_year.columns[1:]:\n",
    "    coeficiente = stats.variation(gb_year[column]) * 100\n",
    "    coeficiente_variacao.append(coeficiente)\n",
    "\n",
    "# Criar um dataframe com as colunas e valores desejados\n",
    "coef_var_df = pd.DataFrame({'GOL': [coeficiente_variacao[0]],\n",
    "                            'CVC': [coeficiente_variacao[1]],\n",
    "                            'WEGE': [coeficiente_variacao[2]],\n",
    "                            'MGLU': [coeficiente_variacao[3]],\n",
    "                            'TOTS': [coeficiente_variacao[4]],\n",
    "                            'BOVA': [coeficiente_variacao[5]]})\n",
    "\n",
    "coef_var_df"
   ]
  },
  {
   "cell_type": "code",
   "execution_count": 34,
   "id": "ddafbca8",
   "metadata": {
    "ExecuteTime": {
     "end_time": "2023-04-19T12:45:12.546065Z",
     "start_time": "2023-04-19T12:45:12.128594Z"
    }
   },
   "outputs": [
    {
     "data": {
      "image/png": "[encoded data removed]",
      "text/plain": [
       "<Figure size 1080x360 with 1 Axes>"
      ]
     },
     "metadata": {
      "needs_background": "light"
     },
     "output_type": "display_data"
    }
   ],
   "source": [
    "# Gráfico - Coeficiente de variação\n",
    "\n",
    "# cria uma figura\n",
    "fig, axs = plt.subplots(figsize=(15,5))\n",
    "\n",
    "# adiciona um gráfico de barras para cada coluna\n",
    "axs.bar(coef_var_df.columns, coef_var_df.iloc[0],color=np.where(coef_var_df.iloc[0]<0, 'red', 'blue'))\n",
    "#axs.set_title('ATIVOS', y=1.05)\n",
    "axs.axhline(y=0, color='black', linewidth=1) # Adiciona uma linha para separar as barras positivas das negativas\n",
    "axs.spines['top'].set_visible(False) # remove a borda superior\n",
    "axs.spines['right'].set_visible(False) # remove a borda direita\n",
    "axs.spines['bottom'].set_visible(False) # remove a borda inferior\n",
    "axs.spines['left'].set_visible(False) # remove a borda esquerda\n",
    "axs.set_yticklabels([]) # remove os valores do eixo y\n",
    "axs.tick_params(axis='both', which='both', length=0) # remove os ticks\n",
    "axs.set_xticklabels(coef_var_df.columns,fontsize=12) # tamanho dos valores do eixo x\n",
    "\n",
    "#axs.set_xlabel('Ações', fontsize=12)\n",
    "#axs.set_ylabel('Coeficiente de Variação ', fontsize=12)\n",
    "\n",
    "# adiciona rótulos às barras\n",
    "for i, v in enumerate(axs.patches):\n",
    "    if v.get_height() >= 0:\n",
    "        axs.text(v.get_x() + v.get_width() / 2, v.get_height() + 1, f'{v.get_height():.1f}%', ha='center', \n",
    "                va='bottom', color='blue', fontsize=12)\n",
    "    else:\n",
    "        axs.text(v.get_x() + v.get_width() / 2, v.get_height() - 2, f'{v.get_height():.1f}%', ha='center', \n",
    "                va='top', color='red', fontsize=12)\n",
    "\n",
    "# ajusta o espaçamento entre os subplots e adiciona um título\n",
    "fig.suptitle('Coeficiente de variação por empresa',fontsize=15, fontweight='bold', color='black', y=1.00, \n",
    "             x= 0.10, horizontalalignment='left')\n",
    "fig.subplots_adjust(top=0.75)\n",
    "\n",
    "plt.savefig('Imagens/ValoresAtivos.png', bbox_inches='tight')\n",
    "\n",
    "plt.show()"
   ]
  },
  {
   "cell_type": "markdown",
   "id": "49314305",
   "metadata": {},
   "source": [
    "**Nota:**\n",
    "- Podemos dizer que o coeficiente de variação é de 379%."
   ]
  },
  {
   "cell_type": "markdown",
   "id": "012fe53d",
   "metadata": {},
   "source": [
    "### <font color='#F37126'> 4.5. Cálculos com todas as ações - risco médio anual"
   ]
  },
  {
   "cell_type": "markdown",
   "id": "ced9aa70",
   "metadata": {},
   "source": [
    "O cálculo dos retornos anuais é uma medida de rentabilidade, a volatilidade anualizada é uma medida de risco. Ambas as medidas são importantes para avaliar o desempenho de uma ação.\n",
    " - Volatilidade anualizada, também conhecida como desvio padrão anualizado, é uma medida de risco que indica a variação dos retornos de um ativo em relação à sua média em um determinado período de tempo. Ela é calculada como o desvio padrão dos retornos do ativo em um determinado período (por exemplo, diário, semanal, mensal) e, em seguida, anualizada por meio da multiplicação pelo fator de raiz quadrada do número de períodos em um ano (geralmente 252 ou 365 dias).</p>\n",
    " - A volatilidade anualizada é frequentemente usada para comparar o risco de diferentes ativos, permitindo que os investidores avaliem qual ativo tem um nível de risco mais alto ou mais baixo. É importante destacar que a volatilidade não é uma medida de retorno, mas sim de risco, e que um ativo com alta volatilidade pode ter retornos mais altos ou mais baixos do que um ativo com baixa volatilidade.\n",
    " \n",
    " \n",
    "<p> Para calcular o risco médio anual das ações, você pode usar a volatilidade anualizada mede a variação percentual dos preços da ação durante um determinado período de tempo. Ela é utilizada para avaliar o risco de um investimento, pois quanto maior a volatilidade, maior a incerteza sobre a rentabilidade futura do investimento.</p>\n",
    "\n",
    "Portanto, embora ambos os métodos nos dêem informações sobre o risco das ações, eles estão olhando para diferentes aspectos do risco. \n",
    "- O primeiro método (Cálculo dos retornos anuais - desvio padrão) olha para a volatilidade dos retornos.\n",
    "- O segundo método (Cálculos com todas as ações - risco médio anual) olha para o risco médio anual de cada ação.\n",
    "\n",
    "<p>Os resultados dos dois métodos são diferentes porque eles estão calculando duas coisas diferentes.</p>"
   ]
  },
  {
   "cell_type": "markdown",
   "id": "1eda1bd5",
   "metadata": {},
   "source": [
    "<p>É errado afirmar que temos uma taxa de retorno somente com o cálculo da variância, porque temos os valores elevados ao quadrado, para isso usamos o desvio padrão para ajudar na interpretação.</p>\n",
    "<p>Quanto maior o desvio padrão, teoricamente mais risco essa ação apresenta, pois ela tem uma variação maior.</p>\n",
    "<p>O desvio padrão basicamente é calcular a raiz quadrada da variância.</p>"
   ]
  },
  {
   "cell_type": "markdown",
   "id": "27b0d251",
   "metadata": {},
   "source": [
    "Vamos calcular risco médio anual, considerando todas as ações da base de dados."
   ]
  },
  {
   "cell_type": "code",
   "execution_count": 35,
   "id": "4204eaf4",
   "metadata": {
    "ExecuteTime": {
     "end_time": "2023-04-19T12:45:12.562061Z",
     "start_time": "2023-04-19T12:45:12.549068Z"
    }
   },
   "outputs": [],
   "source": [
    "dataset.drop(labels=['Date','year','month','day','week_of_year','year_week','year_month'],axis=1,inplace=True)"
   ]
  },
  {
   "cell_type": "code",
   "execution_count": 36,
   "id": "c3fb0bba",
   "metadata": {
    "ExecuteTime": {
     "end_time": "2023-04-19T12:45:12.607236Z",
     "start_time": "2023-04-19T12:45:12.566059Z"
    }
   },
   "outputs": [
    {
     "data": {
      "text/html": [
       "<div>\n",
       "<style scoped>\n",
       "    .dataframe tbody tr th:only-of-type {\n",
       "        vertical-align: middle;\n",
       "    }\n",
       "\n",
       "    .dataframe tbody tr th {\n",
       "        vertical-align: top;\n",
       "    }\n",
       "\n",
       "    .dataframe thead th {\n",
       "        text-align: right;\n",
       "    }\n",
       "</style>\n",
       "<table border=\"1\" class=\"dataframe\">\n",
       "  <thead>\n",
       "    <tr style=\"text-align: right;\">\n",
       "      <th></th>\n",
       "      <th>GOL</th>\n",
       "      <th>CVC</th>\n",
       "      <th>WEGE</th>\n",
       "      <th>MGLU</th>\n",
       "      <th>TOTS</th>\n",
       "      <th>BOVA</th>\n",
       "    </tr>\n",
       "  </thead>\n",
       "  <tbody>\n",
       "    <tr>\n",
       "      <th>0</th>\n",
       "      <td>14.99</td>\n",
       "      <td>15.20</td>\n",
       "      <td>5.923076</td>\n",
       "      <td>0.232812</td>\n",
       "      <td>11.910702</td>\n",
       "      <td>47.259998</td>\n",
       "    </tr>\n",
       "    <tr>\n",
       "      <th>1</th>\n",
       "      <td>14.85</td>\n",
       "      <td>15.00</td>\n",
       "      <td>5.963461</td>\n",
       "      <td>0.237187</td>\n",
       "      <td>11.544731</td>\n",
       "      <td>46.320000</td>\n",
       "    </tr>\n",
       "    <tr>\n",
       "      <th>2</th>\n",
       "      <td>15.21</td>\n",
       "      <td>14.80</td>\n",
       "      <td>5.875000</td>\n",
       "      <td>0.234062</td>\n",
       "      <td>10.822770</td>\n",
       "      <td>46.580002</td>\n",
       "    </tr>\n",
       "    <tr>\n",
       "      <th>3</th>\n",
       "      <td>14.55</td>\n",
       "      <td>14.67</td>\n",
       "      <td>5.807692</td>\n",
       "      <td>0.241875</td>\n",
       "      <td>10.746248</td>\n",
       "      <td>48.150002</td>\n",
       "    </tr>\n",
       "    <tr>\n",
       "      <th>4</th>\n",
       "      <td>14.27</td>\n",
       "      <td>14.15</td>\n",
       "      <td>5.905769</td>\n",
       "      <td>0.240000</td>\n",
       "      <td>10.995774</td>\n",
       "      <td>48.509998</td>\n",
       "    </tr>\n",
       "    <tr>\n",
       "      <th>...</th>\n",
       "      <td>...</td>\n",
       "      <td>...</td>\n",
       "      <td>...</td>\n",
       "      <td>...</td>\n",
       "      <td>...</td>\n",
       "      <td>...</td>\n",
       "    </tr>\n",
       "    <tr>\n",
       "      <th>1983</th>\n",
       "      <td>7.58</td>\n",
       "      <td>4.71</td>\n",
       "      <td>38.500000</td>\n",
       "      <td>2.680000</td>\n",
       "      <td>28.350000</td>\n",
       "      <td>106.000000</td>\n",
       "    </tr>\n",
       "    <tr>\n",
       "      <th>1984</th>\n",
       "      <td>7.50</td>\n",
       "      <td>4.72</td>\n",
       "      <td>38.189999</td>\n",
       "      <td>2.660000</td>\n",
       "      <td>27.049999</td>\n",
       "      <td>105.150002</td>\n",
       "    </tr>\n",
       "    <tr>\n",
       "      <th>1985</th>\n",
       "      <td>7.22</td>\n",
       "      <td>4.38</td>\n",
       "      <td>38.009998</td>\n",
       "      <td>2.520000</td>\n",
       "      <td>26.760000</td>\n",
       "      <td>104.900002</td>\n",
       "    </tr>\n",
       "    <tr>\n",
       "      <th>1986</th>\n",
       "      <td>7.52</td>\n",
       "      <td>4.57</td>\n",
       "      <td>38.700001</td>\n",
       "      <td>2.690000</td>\n",
       "      <td>27.900000</td>\n",
       "      <td>106.800003</td>\n",
       "    </tr>\n",
       "    <tr>\n",
       "      <th>1987</th>\n",
       "      <td>7.34</td>\n",
       "      <td>4.49</td>\n",
       "      <td>38.509998</td>\n",
       "      <td>2.740000</td>\n",
       "      <td>27.620001</td>\n",
       "      <td>105.949997</td>\n",
       "    </tr>\n",
       "  </tbody>\n",
       "</table>\n",
       "<p>1988 rows × 6 columns</p>\n",
       "</div>"
      ],
      "text/plain": [
       "        GOL    CVC       WEGE      MGLU       TOTS        BOVA\n",
       "0     14.99  15.20   5.923076  0.232812  11.910702   47.259998\n",
       "1     14.85  15.00   5.963461  0.237187  11.544731   46.320000\n",
       "2     15.21  14.80   5.875000  0.234062  10.822770   46.580002\n",
       "3     14.55  14.67   5.807692  0.241875  10.746248   48.150002\n",
       "4     14.27  14.15   5.905769  0.240000  10.995774   48.509998\n",
       "...     ...    ...        ...       ...        ...         ...\n",
       "1983   7.58   4.71  38.500000  2.680000  28.350000  106.000000\n",
       "1984   7.50   4.72  38.189999  2.660000  27.049999  105.150002\n",
       "1985   7.22   4.38  38.009998  2.520000  26.760000  104.900002\n",
       "1986   7.52   4.57  38.700001  2.690000  27.900000  106.800003\n",
       "1987   7.34   4.49  38.509998  2.740000  27.620001  105.949997\n",
       "\n",
       "[1988 rows x 6 columns]"
      ]
     },
     "execution_count": 36,
     "metadata": {},
     "output_type": "execute_result"
    }
   ],
   "source": [
    "dataset"
   ]
  },
  {
   "cell_type": "code",
   "execution_count": 37,
   "id": "8eac863e",
   "metadata": {
    "ExecuteTime": {
     "end_time": "2023-04-19T12:45:12.623050Z",
     "start_time": "2023-04-19T12:45:12.611057Z"
    }
   },
   "outputs": [],
   "source": [
    "# Cálculo da taxa de retorno diárias para cada um dos investimentos em cada um destes dias\n",
    "taxa_retorno = (dataset/dataset.shift(1)) -1"
   ]
  },
  {
   "cell_type": "markdown",
   "id": "e707d13c",
   "metadata": {},
   "source": [
    "**Nota:**\n",
    "- Estamos usando o cálculo da taxa de retorno simples pelo fato de que nós usamos a taxa de retorno simples, quando nós queremos fazer o comparativo entre várias empresas em um mesmo período de tempo, neste caso de 2015 até 2022 e também não estamos fazendo uma multiplicação por 100, ou seja, esses valores não estão em porcentagem."
   ]
  },
  {
   "cell_type": "code",
   "execution_count": 38,
   "id": "e58ea4dc",
   "metadata": {
    "ExecuteTime": {
     "end_time": "2023-04-19T12:45:12.668261Z",
     "start_time": "2023-04-19T12:45:12.628047Z"
    }
   },
   "outputs": [
    {
     "data": {
      "text/html": [
       "<div>\n",
       "<style scoped>\n",
       "    .dataframe tbody tr th:only-of-type {\n",
       "        vertical-align: middle;\n",
       "    }\n",
       "\n",
       "    .dataframe tbody tr th {\n",
       "        vertical-align: top;\n",
       "    }\n",
       "\n",
       "    .dataframe thead th {\n",
       "        text-align: right;\n",
       "    }\n",
       "</style>\n",
       "<table border=\"1\" class=\"dataframe\">\n",
       "  <thead>\n",
       "    <tr style=\"text-align: right;\">\n",
       "      <th></th>\n",
       "      <th>GOL</th>\n",
       "      <th>CVC</th>\n",
       "      <th>WEGE</th>\n",
       "      <th>MGLU</th>\n",
       "      <th>TOTS</th>\n",
       "      <th>BOVA</th>\n",
       "    </tr>\n",
       "  </thead>\n",
       "  <tbody>\n",
       "    <tr>\n",
       "      <th>0</th>\n",
       "      <td>NaN</td>\n",
       "      <td>NaN</td>\n",
       "      <td>NaN</td>\n",
       "      <td>NaN</td>\n",
       "      <td>NaN</td>\n",
       "      <td>NaN</td>\n",
       "    </tr>\n",
       "    <tr>\n",
       "      <th>1</th>\n",
       "      <td>-0.009340</td>\n",
       "      <td>-0.013158</td>\n",
       "      <td>0.006818</td>\n",
       "      <td>0.018792</td>\n",
       "      <td>-0.030726</td>\n",
       "      <td>-0.019890</td>\n",
       "    </tr>\n",
       "    <tr>\n",
       "      <th>2</th>\n",
       "      <td>0.024242</td>\n",
       "      <td>-0.013333</td>\n",
       "      <td>-0.014834</td>\n",
       "      <td>-0.013175</td>\n",
       "      <td>-0.062536</td>\n",
       "      <td>0.005613</td>\n",
       "    </tr>\n",
       "    <tr>\n",
       "      <th>3</th>\n",
       "      <td>-0.043392</td>\n",
       "      <td>-0.008784</td>\n",
       "      <td>-0.011457</td>\n",
       "      <td>0.033380</td>\n",
       "      <td>-0.007070</td>\n",
       "      <td>0.033705</td>\n",
       "    </tr>\n",
       "    <tr>\n",
       "      <th>4</th>\n",
       "      <td>-0.019244</td>\n",
       "      <td>-0.035447</td>\n",
       "      <td>0.016887</td>\n",
       "      <td>-0.007752</td>\n",
       "      <td>0.023220</td>\n",
       "      <td>0.007477</td>\n",
       "    </tr>\n",
       "    <tr>\n",
       "      <th>...</th>\n",
       "      <td>...</td>\n",
       "      <td>...</td>\n",
       "      <td>...</td>\n",
       "      <td>...</td>\n",
       "      <td>...</td>\n",
       "      <td>...</td>\n",
       "    </tr>\n",
       "    <tr>\n",
       "      <th>1983</th>\n",
       "      <td>0.048409</td>\n",
       "      <td>0.075342</td>\n",
       "      <td>-0.011299</td>\n",
       "      <td>0.030769</td>\n",
       "      <td>0.014674</td>\n",
       "      <td>0.019917</td>\n",
       "    </tr>\n",
       "    <tr>\n",
       "      <th>1984</th>\n",
       "      <td>-0.010554</td>\n",
       "      <td>0.002123</td>\n",
       "      <td>-0.008052</td>\n",
       "      <td>-0.007463</td>\n",
       "      <td>-0.045855</td>\n",
       "      <td>-0.008019</td>\n",
       "    </tr>\n",
       "    <tr>\n",
       "      <th>1985</th>\n",
       "      <td>-0.037333</td>\n",
       "      <td>-0.072034</td>\n",
       "      <td>-0.004713</td>\n",
       "      <td>-0.052632</td>\n",
       "      <td>-0.010721</td>\n",
       "      <td>-0.002378</td>\n",
       "    </tr>\n",
       "    <tr>\n",
       "      <th>1986</th>\n",
       "      <td>0.041551</td>\n",
       "      <td>0.043379</td>\n",
       "      <td>0.018153</td>\n",
       "      <td>0.067460</td>\n",
       "      <td>0.042601</td>\n",
       "      <td>0.018113</td>\n",
       "    </tr>\n",
       "    <tr>\n",
       "      <th>1987</th>\n",
       "      <td>-0.023936</td>\n",
       "      <td>-0.017506</td>\n",
       "      <td>-0.004910</td>\n",
       "      <td>0.018587</td>\n",
       "      <td>-0.010036</td>\n",
       "      <td>-0.007959</td>\n",
       "    </tr>\n",
       "  </tbody>\n",
       "</table>\n",
       "<p>1988 rows × 6 columns</p>\n",
       "</div>"
      ],
      "text/plain": [
       "           GOL       CVC      WEGE      MGLU      TOTS      BOVA\n",
       "0          NaN       NaN       NaN       NaN       NaN       NaN\n",
       "1    -0.009340 -0.013158  0.006818  0.018792 -0.030726 -0.019890\n",
       "2     0.024242 -0.013333 -0.014834 -0.013175 -0.062536  0.005613\n",
       "3    -0.043392 -0.008784 -0.011457  0.033380 -0.007070  0.033705\n",
       "4    -0.019244 -0.035447  0.016887 -0.007752  0.023220  0.007477\n",
       "...        ...       ...       ...       ...       ...       ...\n",
       "1983  0.048409  0.075342 -0.011299  0.030769  0.014674  0.019917\n",
       "1984 -0.010554  0.002123 -0.008052 -0.007463 -0.045855 -0.008019\n",
       "1985 -0.037333 -0.072034 -0.004713 -0.052632 -0.010721 -0.002378\n",
       "1986  0.041551  0.043379  0.018153  0.067460  0.042601  0.018113\n",
       "1987 -0.023936 -0.017506 -0.004910  0.018587 -0.010036 -0.007959\n",
       "\n",
       "[1988 rows x 6 columns]"
      ]
     },
     "execution_count": 38,
     "metadata": {},
     "output_type": "execute_result"
    }
   ],
   "source": [
    "taxa_retorno"
   ]
  },
  {
   "cell_type": "markdown",
   "id": "6a622ad8",
   "metadata": {},
   "source": [
    "**Nota:**\n",
    "- Valores negativos indicam taxas de retorno negativas, ou seja, perdemos dinheiro e retorno positivo indica que ganhamos dinheiro."
   ]
  },
  {
   "cell_type": "code",
   "execution_count": 39,
   "id": "8e70cba9",
   "metadata": {
    "ExecuteTime": {
     "end_time": "2023-04-19T12:45:12.699423Z",
     "start_time": "2023-04-19T12:45:12.672264Z"
    }
   },
   "outputs": [
    {
     "data": {
      "text/plain": [
       "GOL     4.856037\n",
       "CVC     3.704400\n",
       "WEGE    2.217548\n",
       "MGLU    4.254126\n",
       "TOTS    2.479451\n",
       "BOVA    1.638953\n",
       "dtype: float64"
      ]
     },
     "execution_count": 39,
     "metadata": {},
     "output_type": "execute_result"
    }
   ],
   "source": [
    "# Cálculo do desvio padrão baseado nas taxas de retorno\n",
    "taxa_retorno.std() * 100"
   ]
  },
  {
   "cell_type": "markdown",
   "id": "18e483e5",
   "metadata": {},
   "source": [
    "**Nota:**\n",
    "- Durante todo esse período de 2015 até 2022, a ação da:\n",
    "    - GOL  varia 4 reais e 85 centavos\n",
    "    - CVC  varia 3 reais e 70 centavos\n",
    "    - WEGE varia 2 reais e 21 centavos\n",
    "    - MGLU varia 4 reais e 25 centavos\n",
    "    - TOTS varia 2 reais e 47 centavos\n",
    "    - BOVA varia 1 real  e 63 centavos\n",
    "- Considerando todo esse período, a ação de menor risco é da BOVA, porque temos o menor valor do desvio padrão.\n",
    "- Podemos observar que a ação da GOL tem o maior risco, porque mostra uma variação maior e a BOVA tem o menor risco neste período."
   ]
  },
  {
   "cell_type": "code",
   "execution_count": 40,
   "id": "fe246874",
   "metadata": {
    "ExecuteTime": {
     "end_time": "2023-04-19T12:45:12.730450Z",
     "start_time": "2023-04-19T12:45:12.703429Z"
    },
    "colab": {
     "base_uri": "https://localhost:8080/"
    },
    "id": "BZ35FuAzt4DO",
    "outputId": "04dc0f4a-4cb7-44df-a453-3364ab14cd72"
   },
   "outputs": [
    {
     "data": {
      "text/plain": [
       "GOL     11.945851\n",
       "CVC      9.112825\n",
       "WEGE     5.455168\n",
       "MGLU    10.465149\n",
       "TOTS     6.099450\n",
       "BOVA     4.031824\n",
       "dtype: float64"
      ]
     },
     "execution_count": 40,
     "metadata": {},
     "output_type": "execute_result"
    }
   ],
   "source": [
    "# Cálculo do desvio padrão - Anual\n",
    "taxa_retorno.std() * 246"
   ]
  },
  {
   "cell_type": "markdown",
   "id": "305fbafa",
   "metadata": {},
   "source": [
    "**Nota:**\n",
    "- A multiplicação por 246, que é o número de dias que nós temos onde a bolsa de valores está funcionando.\n",
    "- A ação da GOL de **4.85** foi para **11.94**, isso indica que durante todo o período, a variação da ação da GOL foi de 4 reais e 85 centavos, porém, a variação média anual foi de 11 reais e 94 centavos.\n",
    "- Para ter um valor mais justo precisamos colocar o valor de 246 no mesmo formato do valor que fazemos o cálculo do desvio padrão (o desvio padrão é a raiz quadrada da variância)."
   ]
  },
  {
   "cell_type": "code",
   "execution_count": 41,
   "id": "3f092f96",
   "metadata": {
    "ExecuteTime": {
     "end_time": "2023-04-19T12:45:12.745863Z",
     "start_time": "2023-04-19T12:45:12.733870Z"
    },
    "colab": {
     "base_uri": "https://localhost:8080/"
    },
    "id": "K62-NewLuiEx",
    "outputId": "4b8d6e29-bf2e-44dd-f66d-e674ffbdcfad"
   },
   "outputs": [
    {
     "data": {
      "text/plain": [
       "15.684387141358123"
      ]
     },
     "execution_count": 41,
     "metadata": {},
     "output_type": "execute_result"
    }
   ],
   "source": [
    "# Este é um conceito chamdo de Anualizar para deixar na mesma escala e assim podemos ter um cálculo mais justo\n",
    "math.sqrt(246)"
   ]
  },
  {
   "cell_type": "code",
   "execution_count": 42,
   "id": "2cfe6815",
   "metadata": {
    "ExecuteTime": {
     "end_time": "2023-04-19T12:45:12.776845Z",
     "start_time": "2023-04-19T12:45:12.754861Z"
    },
    "colab": {
     "base_uri": "https://localhost:8080/"
    },
    "id": "6XdhwPG6uZER",
    "outputId": "685b1168-d949-4801-a2ed-0938a8be475e",
    "scrolled": true
   },
   "outputs": [
    {
     "data": {
      "text/plain": [
       "GOL     0.761640\n",
       "CVC     0.581012\n",
       "WEGE    0.347809\n",
       "MGLU    0.667234\n",
       "TOTS    0.388887\n",
       "BOVA    0.257060\n",
       "dtype: float64"
      ]
     },
     "execution_count": 42,
     "metadata": {},
     "output_type": "execute_result"
    }
   ],
   "source": [
    "# Cálculo do desvio padrão mais justo - Anual \n",
    "# (precisamos colocar o número dos dias no mesmo formato que fazemos o cálculo do desvio padrão)\n",
    "taxa_retorno.std() * math.sqrt(246) # Anualizado"
   ]
  },
  {
   "cell_type": "markdown",
   "id": "caf000ff",
   "metadata": {},
   "source": [
    "**Nota:**\n",
    "- Temos o risco para cada uma das ações:\n",
    "    - O menor risco é da BOVA com 0.25\n",
    "    - O maior risco é a da GOL com 0.76"
   ]
  },
  {
   "cell_type": "code",
   "execution_count": 43,
   "id": "76eb8d10",
   "metadata": {
    "ExecuteTime": {
     "end_time": "2023-04-19T12:45:12.808773Z",
     "start_time": "2023-04-19T12:45:12.781842Z"
    }
   },
   "outputs": [],
   "source": [
    "risco_medio = pd.DataFrame((taxa_retorno.std() * math.sqrt(246))*100)\n",
    "\n",
    "# Transpõe o DataFrame\n",
    "risco_medio = risco_medio.transpose()"
   ]
  },
  {
   "cell_type": "code",
   "execution_count": 44,
   "id": "3aaf4d0a",
   "metadata": {
    "ExecuteTime": {
     "end_time": "2023-04-19T12:45:12.840210Z",
     "start_time": "2023-04-19T12:45:12.812226Z"
    }
   },
   "outputs": [
    {
     "data": {
      "text/html": [
       "<div>\n",
       "<style scoped>\n",
       "    .dataframe tbody tr th:only-of-type {\n",
       "        vertical-align: middle;\n",
       "    }\n",
       "\n",
       "    .dataframe tbody tr th {\n",
       "        vertical-align: top;\n",
       "    }\n",
       "\n",
       "    .dataframe thead th {\n",
       "        text-align: right;\n",
       "    }\n",
       "</style>\n",
       "<table border=\"1\" class=\"dataframe\">\n",
       "  <thead>\n",
       "    <tr style=\"text-align: right;\">\n",
       "      <th></th>\n",
       "      <th>GOL</th>\n",
       "      <th>CVC</th>\n",
       "      <th>WEGE</th>\n",
       "      <th>MGLU</th>\n",
       "      <th>TOTS</th>\n",
       "      <th>BOVA</th>\n",
       "    </tr>\n",
       "  </thead>\n",
       "  <tbody>\n",
       "    <tr>\n",
       "      <th>0</th>\n",
       "      <td>76.163961</td>\n",
       "      <td>58.101247</td>\n",
       "      <td>34.780881</td>\n",
       "      <td>66.723352</td>\n",
       "      <td>38.888674</td>\n",
       "      <td>25.705971</td>\n",
       "    </tr>\n",
       "  </tbody>\n",
       "</table>\n",
       "</div>"
      ],
      "text/plain": [
       "         GOL        CVC       WEGE       MGLU       TOTS       BOVA\n",
       "0  76.163961  58.101247  34.780881  66.723352  38.888674  25.705971"
      ]
     },
     "execution_count": 44,
     "metadata": {},
     "output_type": "execute_result"
    }
   ],
   "source": [
    "risco_medio"
   ]
  },
  {
   "cell_type": "code",
   "execution_count": 45,
   "id": "3e092bd8",
   "metadata": {
    "ExecuteTime": {
     "end_time": "2023-04-19T12:45:13.346435Z",
     "start_time": "2023-04-19T12:45:12.844296Z"
    }
   },
   "outputs": [
    {
     "data": {
      "image/png": "[encoded data removed]",
      "text/plain": [
       "<Figure size 720x360 with 1 Axes>"
      ]
     },
     "metadata": {
      "needs_background": "light"
     },
     "output_type": "display_data"
    }
   ],
   "source": [
    "# Crie um objeto subplot\n",
    "fig, ax = plt.subplots(figsize=(10, 5))\n",
    "\n",
    "# Defina o título do gráfico e dos eixos\n",
    "plt.suptitle('Risco médio anual dos Ativos', fontsize=20, x=0.10, horizontalalignment='left')\n",
    "\n",
    "# Crie o gráfico de barras\n",
    "plt.bar(risco_medio.columns, risco_medio.iloc[0], color=mcolors.CSS4_COLORS['cornflowerblue'])\n",
    "\n",
    "# Adicione anotações com os valores das barras\n",
    "for i, v in enumerate(risco_medio.iloc[0]):\n",
    "    plt.annotate('{:.2f}%'.format(v), \n",
    "                 xy=(i, v),\n",
    "                 xytext=(0,10),\n",
    "                 textcoords='offset points',\n",
    "                 ha='center', va='bottom', \n",
    "                 fontsize=10, \n",
    "                 color='black')\n",
    "\n",
    "# Configure o gráfico\n",
    "plt.xticks(rotation=45, ha='right')\n",
    "plt.yticks([])\n",
    "\n",
    "ax.spines['top'].set_visible(False)\n",
    "ax.spines['right'].set_visible(False)\n",
    "ax.spines['left'].set_visible(False)\n",
    "\n",
    "plt.savefig('Imagens/RiscoMedioAtivos.png', bbox_inches='tight')\n",
    "\n",
    "# Exiba o gráfico\n",
    "plt.show()"
   ]
  },
  {
   "cell_type": "markdown",
   "id": "e6b5977f",
   "metadata": {},
   "source": [
    "**Nota:**\n",
    "- Em resumo, enquanto o cálculo dos retornos anuais é uma medida de rentabilidade, a volatilidade anualizada é uma medida de risco. Ambas as medidas são importantes para avaliar o desempenho de uma ação, mas são usadas para finalidades diferentes."
   ]
  },
  {
   "cell_type": "markdown",
   "id": "591a0dcd",
   "metadata": {},
   "source": [
    "### <font color='#F37126'> 4.6. Conclusão dos cálculos: Taxa de Retorno Logarítmica - Retornos anuais - Risco médio anual"
   ]
  },
  {
   "cell_type": "markdown",
   "id": "9bdc13cf",
   "metadata": {},
   "source": [
    "O cálculo dos retornos anuais usando o desvio padrão pode ser útil para avaliar a volatilidade histórica de um ativo e compará-lo com outros ativos, permitindo que os investidores identifiquem ativos mais arriscados ou menos arriscados. Além disso, pode ser uma boa ferramenta para a elaboração de estratégias de diversificação de carteira.\n",
    "\n",
    "Por outro lado, o cálculo do risco médio anual usando o desvio padrão pode ser mais útil para avaliar o risco futuro esperado de uma carteira de investimentos, com base na volatilidade histórica dos ativos. Isso pode ser especialmente importante para investidores que desejam avaliar o risco de sua carteira em um horizonte de tempo mais longo.\n",
    "\n",
    "\n",
    "Portanto, a escolha entre os dois métodos dependerá do objetivo da análise e da estratégia de investimento. Em uma reunião de resultados, pode ser útil apresentar ambos os cálculos para fornecer uma visão mais completa da performance da carteira."
   ]
  },
  {
   "cell_type": "code",
   "execution_count": 46,
   "id": "df8bd034",
   "metadata": {
    "ExecuteTime": {
     "end_time": "2023-04-19T12:45:13.454439Z",
     "start_time": "2023-04-19T12:45:13.353432Z"
    }
   },
   "outputs": [],
   "source": [
    "dataset = pd.read_csv('Datasets/acoes.csv')\n",
    "\n",
    "dataset = dataset.rename(columns={'GOLL4.SA': 'GOL', 'CVCB3.SA': 'CVC', 'WEGE3.SA': 'WEGE',\n",
    "                                    'MGLU3.SA': 'MGLU', 'TOTS3.SA': 'TOTS', 'BOVA11.SA': 'BOVA'})\n",
    "\n",
    "# Cálculo dos retornos anuais logarítmica\n",
    "taxas_retorno = {}\n",
    "\n",
    "for coluna in ['GOL', 'CVC', 'WEGE', 'MGLU', 'TOTS', 'BOVA']:\n",
    "    preco_final = dataset[coluna][len(dataset) - 1]\n",
    "    preco_inicial = dataset[coluna][0]\n",
    "    taxa_retorno = np.log(preco_final / preco_inicial) * 100\n",
    "    taxas_retorno[coluna] = f'{taxa_retorno:.2f}'\n",
    "\n",
    "taxas_retorno_df = pd.DataFrame.from_dict(taxas_retorno, orient='index', columns=['Taxa de Retorno logarítmica'])\n",
    "taxas_retorno_df.reset_index(inplace=True)\n",
    "taxas_retorno_df.rename(columns={'index': 'Stocks', 0: 'Taxa'}, inplace=True)\n",
    "\n",
    "#----------------------------------------------------------------------------------------------------------------\n",
    "\n",
    "# Mudando os tipos das colunas\n",
    "dataset['Date'] = pd.to_datetime(dataset['Date'])\n",
    "\n",
    "# Criando um atributo para ano\n",
    "dataset['year'] = dataset['Date'].dt.year\n",
    "    \n",
    "# Agrupa os preços de fechamento por ano e calcula a Taxa de Retorno\n",
    "TRS_year = pd.DataFrame()\n",
    "for year, data in df_preco.groupby('year'):\n",
    "    year = pd.to_datetime(data['year'].iloc[0], format='%Y')\n",
    "    TRS = np.log(data.iloc[-1] / data.iloc[0])* 100\n",
    "    TRS.name = year.year\n",
    "    TRS_year = pd.concat([TRS_year, TRS], axis=1)   \n",
    "\n",
    "# Remove a primeira linha do DataFrame\n",
    "TRS_year = TRS_year.iloc[1:]\n",
    "\n",
    "# Transpõe o DataFrame\n",
    "gb_year = TRS_year.transpose()\n",
    "\n",
    "# Reseta o índice e renomeia a coluna de índice para \"year\"\n",
    "gb_year = gb_year.reset_index().rename(columns={'index': 'year'})\n",
    "\n",
    "#----------------------------------------------------------------------------------------------------------------\n",
    "\n",
    "# Cálculo dos retornos anuais com desvio padrão\n",
    "std_devs_list = []\n",
    "\n",
    "for column in gb_year.columns[1:]:\n",
    "    std_devs = math.sqrt(gb_year[column].var())\n",
    "    std_devs = f'{std_devs:.2f}'\n",
    "    std_devs_list.append(std_devs)\n",
    "\n",
    "annual_returns_df = pd.DataFrame({'Stocks': gb_year.columns[1:],\n",
    "                                  'Retornos anuais - Desvio padrão': std_devs_list})\n",
    "\n",
    "#----------------------------------------------------------------------------------------------------------------\n",
    "\n",
    "# Cálculo do risco médio anual\n",
    "daily_returns = (dataset.drop(['Date', 'year'], axis=1) / dataset.drop(['Date', 'year'], axis=1).shift(1)) - 1\n",
    "annual_risks = round((daily_returns.std() * math.sqrt(246)) * 100, 2)\n",
    "\n",
    "risk_mean_df = pd.DataFrame({'Stocks': daily_returns.columns,\n",
    "                             'Risco médio anual': annual_risks})\n",
    "\n",
    "#----------------------------------------------------------------------------------------------------------------\n",
    "\n",
    "# Juntando as tabelas\n",
    "result = taxas_retorno_df.merge(annual_returns_df, on='Stocks').merge(risk_mean_df, on='Stocks')\n",
    "\n",
    "result['Taxa de Retorno logarítmica'] = result['Taxa de Retorno logarítmica'].map(lambda x: f'{x}%')\n",
    "result['Retornos anuais - Desvio padrão'] = result['Retornos anuais - Desvio padrão'].map(lambda x: f'{x}%')\n",
    "result['Risco médio anual'] = result['Risco médio anual'].map(lambda x: f'{x}%')"
   ]
  },
  {
   "cell_type": "code",
   "execution_count": 47,
   "id": "464564da",
   "metadata": {
    "ExecuteTime": {
     "end_time": "2023-04-19T12:45:13.485489Z",
     "start_time": "2023-04-19T12:45:13.457420Z"
    }
   },
   "outputs": [
    {
     "data": {
      "text/html": [
       "<div>\n",
       "<style scoped>\n",
       "    .dataframe tbody tr th:only-of-type {\n",
       "        vertical-align: middle;\n",
       "    }\n",
       "\n",
       "    .dataframe tbody tr th {\n",
       "        vertical-align: top;\n",
       "    }\n",
       "\n",
       "    .dataframe thead th {\n",
       "        text-align: right;\n",
       "    }\n",
       "</style>\n",
       "<table border=\"1\" class=\"dataframe\">\n",
       "  <thead>\n",
       "    <tr style=\"text-align: right;\">\n",
       "      <th></th>\n",
       "      <th>Stocks</th>\n",
       "      <th>Taxa de Retorno logarítmica</th>\n",
       "      <th>Retornos anuais - Desvio padrão</th>\n",
       "      <th>Risco médio anual</th>\n",
       "    </tr>\n",
       "  </thead>\n",
       "  <tbody>\n",
       "    <tr>\n",
       "      <th>0</th>\n",
       "      <td>GOL</td>\n",
       "      <td>-71.40%</td>\n",
       "      <td>94.67%</td>\n",
       "      <td>76.16%</td>\n",
       "    </tr>\n",
       "    <tr>\n",
       "      <th>1</th>\n",
       "      <td>CVC</td>\n",
       "      <td>-121.94%</td>\n",
       "      <td>63.85%</td>\n",
       "      <td>58.1%</td>\n",
       "    </tr>\n",
       "    <tr>\n",
       "      <th>2</th>\n",
       "      <td>WEGE</td>\n",
       "      <td>187.21%</td>\n",
       "      <td>34.91%</td>\n",
       "      <td>34.78%</td>\n",
       "    </tr>\n",
       "    <tr>\n",
       "      <th>3</th>\n",
       "      <td>MGLU</td>\n",
       "      <td>246.55%</td>\n",
       "      <td>127.12%</td>\n",
       "      <td>66.72%</td>\n",
       "    </tr>\n",
       "    <tr>\n",
       "      <th>4</th>\n",
       "      <td>TOTS</td>\n",
       "      <td>84.11%</td>\n",
       "      <td>33.31%</td>\n",
       "      <td>38.89%</td>\n",
       "    </tr>\n",
       "    <tr>\n",
       "      <th>5</th>\n",
       "      <td>BOVA</td>\n",
       "      <td>80.73%</td>\n",
       "      <td>17.30%</td>\n",
       "      <td>25.71%</td>\n",
       "    </tr>\n",
       "  </tbody>\n",
       "</table>\n",
       "</div>"
      ],
      "text/plain": [
       "  Stocks Taxa de Retorno logarítmica Retornos anuais - Desvio padrão  \\\n",
       "0    GOL                     -71.40%                          94.67%   \n",
       "1    CVC                    -121.94%                          63.85%   \n",
       "2   WEGE                     187.21%                          34.91%   \n",
       "3   MGLU                     246.55%                         127.12%   \n",
       "4   TOTS                      84.11%                          33.31%   \n",
       "5   BOVA                      80.73%                          17.30%   \n",
       "\n",
       "  Risco médio anual  \n",
       "0            76.16%  \n",
       "1             58.1%  \n",
       "2            34.78%  \n",
       "3            66.72%  \n",
       "4            38.89%  \n",
       "5            25.71%  "
      ]
     },
     "execution_count": 47,
     "metadata": {},
     "output_type": "execute_result"
    }
   ],
   "source": [
    "result"
   ]
  },
  {
   "cell_type": "markdown",
   "id": "f6df7eb0",
   "metadata": {},
   "source": [
    "**Nota:**\n",
    "- **Taxa de retorno logarítmica:** é uma medida da variação percentual do preço da ação ao longo do tempo. É calculada como o logaritmo da razão entre o preço final e o preço inicial da ação, multiplicado por 100. Essa medida mostra o desempenho geral da ação em termos de variação de preço. \n",
    "    - Por exemplo, para a ação GOL, a taxa de retorno logarítmica foi de -71,40%, o que indica uma queda significativa no preço da ação ao longo do tempo.\n",
    "\n",
    "\n",
    "- **Retornos anuais - desvio padrão:** é uma medida de risco que indica o quão volátil é o preço da ação em relação à sua média. É calculada como o desvio padrão dos retornos anuais da ação. Quanto maior for o valor do desvio padrão, mais arriscada é a ação, pois há uma maior variação nos preços ao longo do tempo. Nos permite avaliar o desempenho histórico das ações e comparar o risco de investimento entre elas.\n",
    "    - Por exemplo, a ação GOL tem um desvio padrão de 94,67%, o que indica que é uma ação muito volátil e arriscada.\n",
    "    \n",
    "    \n",
    "- **Risco médio anual:** é uma medida de risco que indica o risco médio associado à ação. É calculada como o desvio padrão dos retornos diários multiplicado pela raiz quadrada do número de dias de negociação em um ano. Quanto maior for o valor do risco médio anual, mais arriscada é a ação. Nos fornece uma estimativa do risco futuro das ações e nos ajuda a decidir quais delas são mais adequadas para nossos objetivos de investimento.\n",
    "    - Por exemplo, a ação GOL tem um risco médio anual de 76,16%, o que indica que é uma ação muito arriscada.\n",
    "    \n",
    "    \n",
    "    \n",
    "    \n",
    "Em resumo, os resultados indicam que a ação GOL apresenta um desempenho negativo e é muito arriscada, enquanto a ação WEGE apresenta um desempenho positivo e tem um risco menor. É importante lembrar que a interpretação dos resultados deve levar em conta o contexto específico da análise e não deve ser feita de forma isolada.\n",
    "\n",
    "- Se o objetivo do investidor for maximizar o retorno, a ação MGLU apresentou o maior retorno no período avaliado.\n",
    "- No entanto, se o objetivo for minimizar o risco, a ação WEGE apresentou o menor risco médio anual.\n",
    "- Por outro lado, a pior ação seria aquela com o maior risco e menor retorno, que no caso da tabela é a ação CVC.\n",
    "- No entanto, é importante lembrar que investimentos com maior retorno potencial geralmente estão associados a um maior risco."
   ]
  },
  {
   "cell_type": "markdown",
   "id": "5b12bb93",
   "metadata": {},
   "source": [
    "### <font color='#F37126'> 4.7. Correlação entre ações"
   ]
  },
  {
   "cell_type": "markdown",
   "id": "04b2d4d2",
   "metadata": {},
   "source": [
    "- Correlação das taxas de retorno indica o quanto o investidor vai ganhar e não o preço das ações.\n",
    "\n",
    "\n",
    "- Quando estamos trabalhando com covariância ou com correlação, nós podemos utilizar as taxa de retorno ou os preços originais, o mais comum é trabalhar com as taxas de retorno, que inclusive para fazer o cálculo do risco de um portfólio utilizamos as taxas de retorno e não os preços das ações.\n",
    "- Caso façamos o cálculo da correlação das taxas de retorno o objetivo é encontrar uma dependência entre os preços em diferentes momentos e se concentrar no retorno do portfólio, que é o que mais importa para o investidor, como por exemplo:\n",
    "    - Se nós observamos essa ação da MGLU o preço dela é muito pequeno, porém o retorno é o maior que todos."
   ]
  },
  {
   "cell_type": "code",
   "execution_count": 48,
   "id": "577c02ce",
   "metadata": {
    "ExecuteTime": {
     "end_time": "2023-04-19T12:45:13.531605Z",
     "start_time": "2023-04-19T12:45:13.491490Z"
    }
   },
   "outputs": [],
   "source": [
    "# Preços da ações (preços originais)\n",
    "dataset = pd.read_csv('Datasets/acoes.csv')\n",
    "dataset = dataset.rename(columns={'GOLL4.SA': 'GOL', 'CVCB3.SA': 'CVC', 'WEGE3.SA': 'WEGE',\n",
    "                                    'MGLU3.SA': 'MGLU', 'TOTS3.SA': 'TOTS', 'BOVA11.SA': 'BOVA'})\n",
    "\n",
    "# Mudando os tipos das colunas\n",
    "dataset['Date'] = pd.to_datetime( dataset['Date'] )\n",
    "\n",
    "dataset.drop(labels=['Date'],axis=1,inplace=True)"
   ]
  },
  {
   "cell_type": "code",
   "execution_count": 49,
   "id": "5e4173aa",
   "metadata": {
    "ExecuteTime": {
     "end_time": "2023-04-19T12:45:13.562535Z",
     "start_time": "2023-04-19T12:45:13.535549Z"
    }
   },
   "outputs": [
    {
     "data": {
      "text/html": [
       "<div>\n",
       "<style scoped>\n",
       "    .dataframe tbody tr th:only-of-type {\n",
       "        vertical-align: middle;\n",
       "    }\n",
       "\n",
       "    .dataframe tbody tr th {\n",
       "        vertical-align: top;\n",
       "    }\n",
       "\n",
       "    .dataframe thead th {\n",
       "        text-align: right;\n",
       "    }\n",
       "</style>\n",
       "<table border=\"1\" class=\"dataframe\">\n",
       "  <thead>\n",
       "    <tr style=\"text-align: right;\">\n",
       "      <th></th>\n",
       "      <th>GOL</th>\n",
       "      <th>CVC</th>\n",
       "      <th>WEGE</th>\n",
       "      <th>MGLU</th>\n",
       "      <th>TOTS</th>\n",
       "      <th>BOVA</th>\n",
       "    </tr>\n",
       "  </thead>\n",
       "  <tbody>\n",
       "    <tr>\n",
       "      <th>0</th>\n",
       "      <td>14.99</td>\n",
       "      <td>15.20</td>\n",
       "      <td>5.923076</td>\n",
       "      <td>0.232812</td>\n",
       "      <td>11.910702</td>\n",
       "      <td>47.259998</td>\n",
       "    </tr>\n",
       "    <tr>\n",
       "      <th>1</th>\n",
       "      <td>14.85</td>\n",
       "      <td>15.00</td>\n",
       "      <td>5.963461</td>\n",
       "      <td>0.237187</td>\n",
       "      <td>11.544731</td>\n",
       "      <td>46.320000</td>\n",
       "    </tr>\n",
       "    <tr>\n",
       "      <th>2</th>\n",
       "      <td>15.21</td>\n",
       "      <td>14.80</td>\n",
       "      <td>5.875000</td>\n",
       "      <td>0.234062</td>\n",
       "      <td>10.822770</td>\n",
       "      <td>46.580002</td>\n",
       "    </tr>\n",
       "    <tr>\n",
       "      <th>3</th>\n",
       "      <td>14.55</td>\n",
       "      <td>14.67</td>\n",
       "      <td>5.807692</td>\n",
       "      <td>0.241875</td>\n",
       "      <td>10.746248</td>\n",
       "      <td>48.150002</td>\n",
       "    </tr>\n",
       "    <tr>\n",
       "      <th>4</th>\n",
       "      <td>14.27</td>\n",
       "      <td>14.15</td>\n",
       "      <td>5.905769</td>\n",
       "      <td>0.240000</td>\n",
       "      <td>10.995774</td>\n",
       "      <td>48.509998</td>\n",
       "    </tr>\n",
       "  </tbody>\n",
       "</table>\n",
       "</div>"
      ],
      "text/plain": [
       "     GOL    CVC      WEGE      MGLU       TOTS       BOVA\n",
       "0  14.99  15.20  5.923076  0.232812  11.910702  47.259998\n",
       "1  14.85  15.00  5.963461  0.237187  11.544731  46.320000\n",
       "2  15.21  14.80  5.875000  0.234062  10.822770  46.580002\n",
       "3  14.55  14.67  5.807692  0.241875  10.746248  48.150002\n",
       "4  14.27  14.15  5.905769  0.240000  10.995774  48.509998"
      ]
     },
     "execution_count": 49,
     "metadata": {},
     "output_type": "execute_result"
    }
   ],
   "source": [
    "dataset.head()"
   ]
  },
  {
   "cell_type": "code",
   "execution_count": 50,
   "id": "078fcf21",
   "metadata": {
    "ExecuteTime": {
     "end_time": "2023-04-19T12:45:13.578218Z",
     "start_time": "2023-04-19T12:45:13.566224Z"
    }
   },
   "outputs": [],
   "source": [
    "# Cálculo da taxa de retorno diárias para cada um dos investimentos em cada um destes dias\n",
    "taxa_retorno = (dataset/dataset.shift(1)) -1"
   ]
  },
  {
   "cell_type": "code",
   "execution_count": 51,
   "id": "4ec96aa6",
   "metadata": {
    "ExecuteTime": {
     "end_time": "2023-04-19T12:45:13.624667Z",
     "start_time": "2023-04-19T12:45:13.583218Z"
    }
   },
   "outputs": [
    {
     "data": {
      "text/html": [
       "<div>\n",
       "<style scoped>\n",
       "    .dataframe tbody tr th:only-of-type {\n",
       "        vertical-align: middle;\n",
       "    }\n",
       "\n",
       "    .dataframe tbody tr th {\n",
       "        vertical-align: top;\n",
       "    }\n",
       "\n",
       "    .dataframe thead th {\n",
       "        text-align: right;\n",
       "    }\n",
       "</style>\n",
       "<table border=\"1\" class=\"dataframe\">\n",
       "  <thead>\n",
       "    <tr style=\"text-align: right;\">\n",
       "      <th></th>\n",
       "      <th>GOL</th>\n",
       "      <th>CVC</th>\n",
       "      <th>WEGE</th>\n",
       "      <th>MGLU</th>\n",
       "      <th>TOTS</th>\n",
       "      <th>BOVA</th>\n",
       "    </tr>\n",
       "  </thead>\n",
       "  <tbody>\n",
       "    <tr>\n",
       "      <th>0</th>\n",
       "      <td>NaN</td>\n",
       "      <td>NaN</td>\n",
       "      <td>NaN</td>\n",
       "      <td>NaN</td>\n",
       "      <td>NaN</td>\n",
       "      <td>NaN</td>\n",
       "    </tr>\n",
       "    <tr>\n",
       "      <th>1</th>\n",
       "      <td>-0.009340</td>\n",
       "      <td>-0.013158</td>\n",
       "      <td>0.006818</td>\n",
       "      <td>0.018792</td>\n",
       "      <td>-0.030726</td>\n",
       "      <td>-0.019890</td>\n",
       "    </tr>\n",
       "    <tr>\n",
       "      <th>2</th>\n",
       "      <td>0.024242</td>\n",
       "      <td>-0.013333</td>\n",
       "      <td>-0.014834</td>\n",
       "      <td>-0.013175</td>\n",
       "      <td>-0.062536</td>\n",
       "      <td>0.005613</td>\n",
       "    </tr>\n",
       "    <tr>\n",
       "      <th>3</th>\n",
       "      <td>-0.043392</td>\n",
       "      <td>-0.008784</td>\n",
       "      <td>-0.011457</td>\n",
       "      <td>0.033380</td>\n",
       "      <td>-0.007070</td>\n",
       "      <td>0.033705</td>\n",
       "    </tr>\n",
       "    <tr>\n",
       "      <th>4</th>\n",
       "      <td>-0.019244</td>\n",
       "      <td>-0.035447</td>\n",
       "      <td>0.016887</td>\n",
       "      <td>-0.007752</td>\n",
       "      <td>0.023220</td>\n",
       "      <td>0.007477</td>\n",
       "    </tr>\n",
       "    <tr>\n",
       "      <th>...</th>\n",
       "      <td>...</td>\n",
       "      <td>...</td>\n",
       "      <td>...</td>\n",
       "      <td>...</td>\n",
       "      <td>...</td>\n",
       "      <td>...</td>\n",
       "    </tr>\n",
       "    <tr>\n",
       "      <th>1983</th>\n",
       "      <td>0.048409</td>\n",
       "      <td>0.075342</td>\n",
       "      <td>-0.011299</td>\n",
       "      <td>0.030769</td>\n",
       "      <td>0.014674</td>\n",
       "      <td>0.019917</td>\n",
       "    </tr>\n",
       "    <tr>\n",
       "      <th>1984</th>\n",
       "      <td>-0.010554</td>\n",
       "      <td>0.002123</td>\n",
       "      <td>-0.008052</td>\n",
       "      <td>-0.007463</td>\n",
       "      <td>-0.045855</td>\n",
       "      <td>-0.008019</td>\n",
       "    </tr>\n",
       "    <tr>\n",
       "      <th>1985</th>\n",
       "      <td>-0.037333</td>\n",
       "      <td>-0.072034</td>\n",
       "      <td>-0.004713</td>\n",
       "      <td>-0.052632</td>\n",
       "      <td>-0.010721</td>\n",
       "      <td>-0.002378</td>\n",
       "    </tr>\n",
       "    <tr>\n",
       "      <th>1986</th>\n",
       "      <td>0.041551</td>\n",
       "      <td>0.043379</td>\n",
       "      <td>0.018153</td>\n",
       "      <td>0.067460</td>\n",
       "      <td>0.042601</td>\n",
       "      <td>0.018113</td>\n",
       "    </tr>\n",
       "    <tr>\n",
       "      <th>1987</th>\n",
       "      <td>-0.023936</td>\n",
       "      <td>-0.017506</td>\n",
       "      <td>-0.004910</td>\n",
       "      <td>0.018587</td>\n",
       "      <td>-0.010036</td>\n",
       "      <td>-0.007959</td>\n",
       "    </tr>\n",
       "  </tbody>\n",
       "</table>\n",
       "<p>1988 rows × 6 columns</p>\n",
       "</div>"
      ],
      "text/plain": [
       "           GOL       CVC      WEGE      MGLU      TOTS      BOVA\n",
       "0          NaN       NaN       NaN       NaN       NaN       NaN\n",
       "1    -0.009340 -0.013158  0.006818  0.018792 -0.030726 -0.019890\n",
       "2     0.024242 -0.013333 -0.014834 -0.013175 -0.062536  0.005613\n",
       "3    -0.043392 -0.008784 -0.011457  0.033380 -0.007070  0.033705\n",
       "4    -0.019244 -0.035447  0.016887 -0.007752  0.023220  0.007477\n",
       "...        ...       ...       ...       ...       ...       ...\n",
       "1983  0.048409  0.075342 -0.011299  0.030769  0.014674  0.019917\n",
       "1984 -0.010554  0.002123 -0.008052 -0.007463 -0.045855 -0.008019\n",
       "1985 -0.037333 -0.072034 -0.004713 -0.052632 -0.010721 -0.002378\n",
       "1986  0.041551  0.043379  0.018153  0.067460  0.042601  0.018113\n",
       "1987 -0.023936 -0.017506 -0.004910  0.018587 -0.010036 -0.007959\n",
       "\n",
       "[1988 rows x 6 columns]"
      ]
     },
     "execution_count": 51,
     "metadata": {},
     "output_type": "execute_result"
    }
   ],
   "source": [
    "# Retorno diários para cada uma das ações (taxa de retorno simples)\n",
    "taxa_retorno"
   ]
  },
  {
   "cell_type": "code",
   "execution_count": 52,
   "id": "3c3ac208",
   "metadata": {
    "ExecuteTime": {
     "end_time": "2023-04-19T12:45:13.655882Z",
     "start_time": "2023-04-19T12:45:13.627897Z"
    }
   },
   "outputs": [
    {
     "data": {
      "text/html": [
       "<div>\n",
       "<style scoped>\n",
       "    .dataframe tbody tr th:only-of-type {\n",
       "        vertical-align: middle;\n",
       "    }\n",
       "\n",
       "    .dataframe tbody tr th {\n",
       "        vertical-align: top;\n",
       "    }\n",
       "\n",
       "    .dataframe thead th {\n",
       "        text-align: right;\n",
       "    }\n",
       "</style>\n",
       "<table border=\"1\" class=\"dataframe\">\n",
       "  <thead>\n",
       "    <tr style=\"text-align: right;\">\n",
       "      <th></th>\n",
       "      <th>GOL</th>\n",
       "      <th>CVC</th>\n",
       "      <th>WEGE</th>\n",
       "      <th>MGLU</th>\n",
       "      <th>TOTS</th>\n",
       "      <th>BOVA</th>\n",
       "    </tr>\n",
       "  </thead>\n",
       "  <tbody>\n",
       "    <tr>\n",
       "      <th>GOL</th>\n",
       "      <td>0.002358</td>\n",
       "      <td>0.000972</td>\n",
       "      <td>0.000338</td>\n",
       "      <td>0.000722</td>\n",
       "      <td>0.000413</td>\n",
       "      <td>0.000473</td>\n",
       "    </tr>\n",
       "    <tr>\n",
       "      <th>CVC</th>\n",
       "      <td>0.000972</td>\n",
       "      <td>0.001372</td>\n",
       "      <td>0.000243</td>\n",
       "      <td>0.000581</td>\n",
       "      <td>0.000324</td>\n",
       "      <td>0.000333</td>\n",
       "    </tr>\n",
       "    <tr>\n",
       "      <th>WEGE</th>\n",
       "      <td>0.000338</td>\n",
       "      <td>0.000243</td>\n",
       "      <td>0.000492</td>\n",
       "      <td>0.000287</td>\n",
       "      <td>0.000221</td>\n",
       "      <td>0.000190</td>\n",
       "    </tr>\n",
       "    <tr>\n",
       "      <th>MGLU</th>\n",
       "      <td>0.000722</td>\n",
       "      <td>0.000581</td>\n",
       "      <td>0.000287</td>\n",
       "      <td>0.001810</td>\n",
       "      <td>0.000354</td>\n",
       "      <td>0.000321</td>\n",
       "    </tr>\n",
       "    <tr>\n",
       "      <th>TOTS</th>\n",
       "      <td>0.000413</td>\n",
       "      <td>0.000324</td>\n",
       "      <td>0.000221</td>\n",
       "      <td>0.000354</td>\n",
       "      <td>0.000615</td>\n",
       "      <td>0.000200</td>\n",
       "    </tr>\n",
       "    <tr>\n",
       "      <th>BOVA</th>\n",
       "      <td>0.000473</td>\n",
       "      <td>0.000333</td>\n",
       "      <td>0.000190</td>\n",
       "      <td>0.000321</td>\n",
       "      <td>0.000200</td>\n",
       "      <td>0.000269</td>\n",
       "    </tr>\n",
       "  </tbody>\n",
       "</table>\n",
       "</div>"
      ],
      "text/plain": [
       "           GOL       CVC      WEGE      MGLU      TOTS      BOVA\n",
       "GOL   0.002358  0.000972  0.000338  0.000722  0.000413  0.000473\n",
       "CVC   0.000972  0.001372  0.000243  0.000581  0.000324  0.000333\n",
       "WEGE  0.000338  0.000243  0.000492  0.000287  0.000221  0.000190\n",
       "MGLU  0.000722  0.000581  0.000287  0.001810  0.000354  0.000321\n",
       "TOTS  0.000413  0.000324  0.000221  0.000354  0.000615  0.000200\n",
       "BOVA  0.000473  0.000333  0.000190  0.000321  0.000200  0.000269"
      ]
     },
     "execution_count": 52,
     "metadata": {},
     "output_type": "execute_result"
    }
   ],
   "source": [
    "# Cálculo da covariância\n",
    "taxa_retorno.cov()"
   ]
  },
  {
   "cell_type": "markdown",
   "id": "7a382755",
   "metadata": {},
   "source": [
    "**Nota:**\n",
    "- A covariância é uma medida estatística onde é possível comparar duas variáveis, permitindo entender como elas se relacionam entre si.\n",
    "- Podemos perceber que todos os valores estão positivos, isso indica que quando uma ação aumenta a outra ação também aumenta."
   ]
  },
  {
   "cell_type": "code",
   "execution_count": 53,
   "id": "147f08ce",
   "metadata": {
    "ExecuteTime": {
     "end_time": "2023-04-19T12:45:13.686864Z",
     "start_time": "2023-04-19T12:45:13.659880Z"
    }
   },
   "outputs": [
    {
     "data": {
      "text/html": [
       "<div>\n",
       "<style scoped>\n",
       "    .dataframe tbody tr th:only-of-type {\n",
       "        vertical-align: middle;\n",
       "    }\n",
       "\n",
       "    .dataframe tbody tr th {\n",
       "        vertical-align: top;\n",
       "    }\n",
       "\n",
       "    .dataframe thead th {\n",
       "        text-align: right;\n",
       "    }\n",
       "</style>\n",
       "<table border=\"1\" class=\"dataframe\">\n",
       "  <thead>\n",
       "    <tr style=\"text-align: right;\">\n",
       "      <th></th>\n",
       "      <th>GOL</th>\n",
       "      <th>CVC</th>\n",
       "      <th>WEGE</th>\n",
       "      <th>MGLU</th>\n",
       "      <th>TOTS</th>\n",
       "      <th>BOVA</th>\n",
       "    </tr>\n",
       "  </thead>\n",
       "  <tbody>\n",
       "    <tr>\n",
       "      <th>GOL</th>\n",
       "      <td>1.000000</td>\n",
       "      <td>0.540333</td>\n",
       "      <td>0.314294</td>\n",
       "      <td>0.349434</td>\n",
       "      <td>0.343003</td>\n",
       "      <td>0.594139</td>\n",
       "    </tr>\n",
       "    <tr>\n",
       "      <th>CVC</th>\n",
       "      <td>0.540333</td>\n",
       "      <td>1.000000</td>\n",
       "      <td>0.296040</td>\n",
       "      <td>0.368856</td>\n",
       "      <td>0.352955</td>\n",
       "      <td>0.547657</td>\n",
       "    </tr>\n",
       "    <tr>\n",
       "      <th>WEGE</th>\n",
       "      <td>0.314294</td>\n",
       "      <td>0.296040</td>\n",
       "      <td>1.000000</td>\n",
       "      <td>0.304753</td>\n",
       "      <td>0.402417</td>\n",
       "      <td>0.522225</td>\n",
       "    </tr>\n",
       "    <tr>\n",
       "      <th>MGLU</th>\n",
       "      <td>0.349434</td>\n",
       "      <td>0.368856</td>\n",
       "      <td>0.304753</td>\n",
       "      <td>1.000000</td>\n",
       "      <td>0.335732</td>\n",
       "      <td>0.459999</td>\n",
       "    </tr>\n",
       "    <tr>\n",
       "      <th>TOTS</th>\n",
       "      <td>0.343003</td>\n",
       "      <td>0.352955</td>\n",
       "      <td>0.402417</td>\n",
       "      <td>0.335732</td>\n",
       "      <td>1.000000</td>\n",
       "      <td>0.491442</td>\n",
       "    </tr>\n",
       "    <tr>\n",
       "      <th>BOVA</th>\n",
       "      <td>0.594139</td>\n",
       "      <td>0.547657</td>\n",
       "      <td>0.522225</td>\n",
       "      <td>0.459999</td>\n",
       "      <td>0.491442</td>\n",
       "      <td>1.000000</td>\n",
       "    </tr>\n",
       "  </tbody>\n",
       "</table>\n",
       "</div>"
      ],
      "text/plain": [
       "           GOL       CVC      WEGE      MGLU      TOTS      BOVA\n",
       "GOL   1.000000  0.540333  0.314294  0.349434  0.343003  0.594139\n",
       "CVC   0.540333  1.000000  0.296040  0.368856  0.352955  0.547657\n",
       "WEGE  0.314294  0.296040  1.000000  0.304753  0.402417  0.522225\n",
       "MGLU  0.349434  0.368856  0.304753  1.000000  0.335732  0.459999\n",
       "TOTS  0.343003  0.352955  0.402417  0.335732  1.000000  0.491442\n",
       "BOVA  0.594139  0.547657  0.522225  0.459999  0.491442  1.000000"
      ]
     },
     "execution_count": 53,
     "metadata": {},
     "output_type": "execute_result"
    }
   ],
   "source": [
    "taxa_retorno.corr()"
   ]
  },
  {
   "cell_type": "markdown",
   "id": "39506bab",
   "metadata": {},
   "source": [
    "**Nota:**\n",
    "- As empresas que faz parte do conjunto das ações da BOVA, certamente tem um valor de correlação mais forte\n",
    "- O menor valor valor de correlação, que é uma correlação fraca é entre MGLU e a TOTS, mas podemos observar que são empresas de áreas totalmente diferentes, TOTS é da área da tecnologia e a MGLU da área de venda de produtos."
   ]
  },
  {
   "cell_type": "code",
   "execution_count": 54,
   "id": "f6ef5d81",
   "metadata": {
    "ExecuteTime": {
     "end_time": "2023-04-19T12:45:14.302532Z",
     "start_time": "2023-04-19T12:45:13.691861Z"
    }
   },
   "outputs": [
    {
     "data": {
      "image/png": "[encoded data removed]",
      "text/plain": [
       "<Figure size 576x432 with 2 Axes>"
      ]
     },
     "metadata": {
      "needs_background": "light"
     },
     "output_type": "display_data"
    }
   ],
   "source": [
    "plt.figure(figsize=(8,6))\n",
    "sns.heatmap(taxa_retorno.corr(), annot=True);"
   ]
  },
  {
   "cell_type": "markdown",
   "id": "6c6f0b6d",
   "metadata": {},
   "source": [
    "### <font color='#F37126'> 4.8. Risco de um portfólio para Gol e CVC"
   ]
  },
  {
   "cell_type": "markdown",
   "id": "2dd3aff5",
   "metadata": {},
   "source": [
    "Para fazer o cálculo do risco, utilizamos as taxas de retorno que é mais interessantes do que usar o preço das ações, pelo fato que o que interessa para o investidor é o quanto ele vai ganhar ou quanto ele vai perder."
   ]
  },
  {
   "cell_type": "code",
   "execution_count": 55,
   "id": "a022ca6b",
   "metadata": {
    "ExecuteTime": {
     "end_time": "2023-04-19T12:45:14.350016Z",
     "start_time": "2023-04-19T12:45:14.312506Z"
    }
   },
   "outputs": [
    {
     "data": {
      "text/html": [
       "<div>\n",
       "<style scoped>\n",
       "    .dataframe tbody tr th:only-of-type {\n",
       "        vertical-align: middle;\n",
       "    }\n",
       "\n",
       "    .dataframe tbody tr th {\n",
       "        vertical-align: top;\n",
       "    }\n",
       "\n",
       "    .dataframe thead th {\n",
       "        text-align: right;\n",
       "    }\n",
       "</style>\n",
       "<table border=\"1\" class=\"dataframe\">\n",
       "  <thead>\n",
       "    <tr style=\"text-align: right;\">\n",
       "      <th></th>\n",
       "      <th>GOL</th>\n",
       "      <th>CVC</th>\n",
       "    </tr>\n",
       "  </thead>\n",
       "  <tbody>\n",
       "    <tr>\n",
       "      <th>0</th>\n",
       "      <td>NaN</td>\n",
       "      <td>NaN</td>\n",
       "    </tr>\n",
       "    <tr>\n",
       "      <th>1</th>\n",
       "      <td>-0.009340</td>\n",
       "      <td>-0.013158</td>\n",
       "    </tr>\n",
       "    <tr>\n",
       "      <th>2</th>\n",
       "      <td>0.024242</td>\n",
       "      <td>-0.013333</td>\n",
       "    </tr>\n",
       "    <tr>\n",
       "      <th>3</th>\n",
       "      <td>-0.043392</td>\n",
       "      <td>-0.008784</td>\n",
       "    </tr>\n",
       "    <tr>\n",
       "      <th>4</th>\n",
       "      <td>-0.019244</td>\n",
       "      <td>-0.035447</td>\n",
       "    </tr>\n",
       "    <tr>\n",
       "      <th>...</th>\n",
       "      <td>...</td>\n",
       "      <td>...</td>\n",
       "    </tr>\n",
       "    <tr>\n",
       "      <th>1983</th>\n",
       "      <td>0.048409</td>\n",
       "      <td>0.075342</td>\n",
       "    </tr>\n",
       "    <tr>\n",
       "      <th>1984</th>\n",
       "      <td>-0.010554</td>\n",
       "      <td>0.002123</td>\n",
       "    </tr>\n",
       "    <tr>\n",
       "      <th>1985</th>\n",
       "      <td>-0.037333</td>\n",
       "      <td>-0.072034</td>\n",
       "    </tr>\n",
       "    <tr>\n",
       "      <th>1986</th>\n",
       "      <td>0.041551</td>\n",
       "      <td>0.043379</td>\n",
       "    </tr>\n",
       "    <tr>\n",
       "      <th>1987</th>\n",
       "      <td>-0.023936</td>\n",
       "      <td>-0.017506</td>\n",
       "    </tr>\n",
       "  </tbody>\n",
       "</table>\n",
       "<p>1988 rows × 2 columns</p>\n",
       "</div>"
      ],
      "text/plain": [
       "           GOL       CVC\n",
       "0          NaN       NaN\n",
       "1    -0.009340 -0.013158\n",
       "2     0.024242 -0.013333\n",
       "3    -0.043392 -0.008784\n",
       "4    -0.019244 -0.035447\n",
       "...        ...       ...\n",
       "1983  0.048409  0.075342\n",
       "1984 -0.010554  0.002123\n",
       "1985 -0.037333 -0.072034\n",
       "1986  0.041551  0.043379\n",
       "1987 -0.023936 -0.017506\n",
       "\n",
       "[1988 rows x 2 columns]"
      ]
     },
     "execution_count": 55,
     "metadata": {},
     "output_type": "execute_result"
    }
   ],
   "source": [
    "taxa_retorno_gol_cvc = taxa_retorno.drop(columns=['WEGE', 'MGLU', 'TOTS', 'BOVA'])\n",
    "taxa_retorno_gol_cvc"
   ]
  },
  {
   "cell_type": "code",
   "execution_count": 56,
   "id": "cdf5f5ce",
   "metadata": {
    "ExecuteTime": {
     "end_time": "2023-04-19T12:45:14.381281Z",
     "start_time": "2023-04-19T12:45:14.355441Z"
    }
   },
   "outputs": [
    {
     "data": {
      "text/html": [
       "<div>\n",
       "<style scoped>\n",
       "    .dataframe tbody tr th:only-of-type {\n",
       "        vertical-align: middle;\n",
       "    }\n",
       "\n",
       "    .dataframe tbody tr th {\n",
       "        vertical-align: top;\n",
       "    }\n",
       "\n",
       "    .dataframe thead th {\n",
       "        text-align: right;\n",
       "    }\n",
       "</style>\n",
       "<table border=\"1\" class=\"dataframe\">\n",
       "  <thead>\n",
       "    <tr style=\"text-align: right;\">\n",
       "      <th></th>\n",
       "      <th>GOL</th>\n",
       "      <th>CVC</th>\n",
       "    </tr>\n",
       "  </thead>\n",
       "  <tbody>\n",
       "    <tr>\n",
       "      <th>GOL</th>\n",
       "      <td>0.002358</td>\n",
       "      <td>0.000972</td>\n",
       "    </tr>\n",
       "    <tr>\n",
       "      <th>CVC</th>\n",
       "      <td>0.000972</td>\n",
       "      <td>0.001372</td>\n",
       "    </tr>\n",
       "  </tbody>\n",
       "</table>\n",
       "</div>"
      ],
      "text/plain": [
       "          GOL       CVC\n",
       "GOL  0.002358  0.000972\n",
       "CVC  0.000972  0.001372"
      ]
     },
     "execution_count": 56,
     "metadata": {},
     "output_type": "execute_result"
    }
   ],
   "source": [
    "# Para calcular o risco desse portfólio com dus ações, precisa gerar a Matriz de covariância\n",
    "taxa_retorno_gol_cvc.cov()"
   ]
  },
  {
   "cell_type": "markdown",
   "id": "63496f11",
   "metadata": {},
   "source": [
    "**Nota:**\n",
    "- A matriz de covariância, vai indicar de certa forma o grau de similaridade entre as ações.\n",
    "- Por exemplo:\n",
    "    - Temos o grau de covariância entre a GOL e a CVC de 0.000972, considerando a taxa de retorno."
   ]
  },
  {
   "cell_type": "code",
   "execution_count": 57,
   "id": "f35172f4",
   "metadata": {
    "ExecuteTime": {
     "end_time": "2023-04-19T12:45:14.412383Z",
     "start_time": "2023-04-19T12:45:14.385379Z"
    }
   },
   "outputs": [
    {
     "data": {
      "text/html": [
       "<div>\n",
       "<style scoped>\n",
       "    .dataframe tbody tr th:only-of-type {\n",
       "        vertical-align: middle;\n",
       "    }\n",
       "\n",
       "    .dataframe tbody tr th {\n",
       "        vertical-align: top;\n",
       "    }\n",
       "\n",
       "    .dataframe thead th {\n",
       "        text-align: right;\n",
       "    }\n",
       "</style>\n",
       "<table border=\"1\" class=\"dataframe\">\n",
       "  <thead>\n",
       "    <tr style=\"text-align: right;\">\n",
       "      <th></th>\n",
       "      <th>GOL</th>\n",
       "      <th>CVC</th>\n",
       "    </tr>\n",
       "  </thead>\n",
       "  <tbody>\n",
       "    <tr>\n",
       "      <th>GOL</th>\n",
       "      <td>0.580095</td>\n",
       "      <td>0.239109</td>\n",
       "    </tr>\n",
       "    <tr>\n",
       "      <th>CVC</th>\n",
       "      <td>0.239109</td>\n",
       "      <td>0.337575</td>\n",
       "    </tr>\n",
       "  </tbody>\n",
       "</table>\n",
       "</div>"
      ],
      "text/plain": [
       "          GOL       CVC\n",
       "GOL  0.580095  0.239109\n",
       "CVC  0.239109  0.337575"
      ]
     },
     "execution_count": 57,
     "metadata": {},
     "output_type": "execute_result"
    }
   ],
   "source": [
    "# Cálculo do risco anual do portfólio - Matriz de covariância anual\n",
    "taxa_retorno_gol_cvc.cov() * 246"
   ]
  },
  {
   "cell_type": "code",
   "execution_count": 58,
   "id": "e157574d",
   "metadata": {
    "ExecuteTime": {
     "end_time": "2023-04-19T12:45:14.427844Z",
     "start_time": "2023-04-19T12:45:14.415848Z"
    }
   },
   "outputs": [],
   "source": [
    "# Definindo os pesos e a soma entre eles tem que ser 1(um) - pesos iguais\n",
    "pesos = np.array([0.5, 0.5])"
   ]
  },
  {
   "cell_type": "markdown",
   "id": "205d72d4",
   "metadata": {},
   "source": [
    "**Nota:**\n",
    "- Por exemplo: se temos um valor de Mil reais, vamos investir 500 reais para cada uma das ações."
   ]
  },
  {
   "cell_type": "code",
   "execution_count": 59,
   "id": "4ff61a46",
   "metadata": {
    "ExecuteTime": {
     "end_time": "2023-04-19T12:45:14.459202Z",
     "start_time": "2023-04-19T12:45:14.432837Z"
    }
   },
   "outputs": [
    {
     "data": {
      "text/plain": [
       "59.07386879386314"
      ]
     },
     "execution_count": 59,
     "metadata": {},
     "output_type": "execute_result"
    }
   ],
   "source": [
    "# Cálculo do desvio padrão\n",
    "math.sqrt(np.dot(pesos, np.dot(taxa_retorno_gol_cvc.cov() * 246, pesos))) * 100"
   ]
  },
  {
   "cell_type": "markdown",
   "id": "6ed8a1ea",
   "metadata": {},
   "source": [
    "**Nota:**\n",
    "- Este resultado representa a volatilidade da carteira, ou seja, isso indica que esta carteira da GOL e da CVC tem uma volatilidade de 59%.  "
   ]
  },
  {
   "cell_type": "markdown",
   "id": "331b9173",
   "metadata": {},
   "source": [
    "### <font color='#F37126'> 4.9. Risco de um portfólio para todas as ações"
   ]
  },
  {
   "cell_type": "code",
   "execution_count": 60,
   "id": "f84b8d20",
   "metadata": {
    "ExecuteTime": {
     "end_time": "2023-04-19T12:45:14.474607Z",
     "start_time": "2023-04-19T12:45:14.462593Z"
    }
   },
   "outputs": [
    {
     "data": {
      "text/plain": [
       "Index(['GOL', 'CVC', 'WEGE', 'MGLU', 'TOTS', 'BOVA'], dtype='object')"
      ]
     },
     "execution_count": 60,
     "metadata": {},
     "output_type": "execute_result"
    }
   ],
   "source": [
    "dataset.columns"
   ]
  },
  {
   "cell_type": "code",
   "execution_count": 61,
   "id": "5abc9295",
   "metadata": {
    "ExecuteTime": {
     "end_time": "2023-04-19T12:45:14.490578Z",
     "start_time": "2023-04-19T12:45:14.480584Z"
    }
   },
   "outputs": [],
   "source": [
    "# Definindo um peso para cada uma das ações (20% para cada uma das ações)\n",
    "pesos1 = np.array([0.2, 0.2, 0.2, 0.2, 0.2, 0.0])"
   ]
  },
  {
   "cell_type": "markdown",
   "id": "2c1c08cf",
   "metadata": {},
   "source": [
    "**Nota:**\n",
    "- Objetivo é calcular o risco de termos uma carteira com essas ações indivisuais ou de nós termos o índice Ibovespa e dessa forma vamos saber se é maior ou menor fazer um investimento diretamente no índice Ibovespa ou não, por isso que temos o peso 0.0 para ação da BOVA."
   ]
  },
  {
   "cell_type": "code",
   "execution_count": 62,
   "id": "8d9d8713",
   "metadata": {
    "ExecuteTime": {
     "end_time": "2023-04-19T12:45:14.506572Z",
     "start_time": "2023-04-19T12:45:14.495575Z"
    }
   },
   "outputs": [
    {
     "data": {
      "text/plain": [
       "1.0"
      ]
     },
     "execution_count": 62,
     "metadata": {},
     "output_type": "execute_result"
    }
   ],
   "source": [
    "# O peso precisa somar o valor igual a 1(um)\n",
    "pesos1.sum()"
   ]
  },
  {
   "cell_type": "code",
   "execution_count": 63,
   "id": "3b843156",
   "metadata": {
    "ExecuteTime": {
     "end_time": "2023-04-19T12:45:14.554542Z",
     "start_time": "2023-04-19T12:45:14.512565Z"
    }
   },
   "outputs": [
    {
     "data": {
      "text/html": [
       "<div>\n",
       "<style scoped>\n",
       "    .dataframe tbody tr th:only-of-type {\n",
       "        vertical-align: middle;\n",
       "    }\n",
       "\n",
       "    .dataframe tbody tr th {\n",
       "        vertical-align: top;\n",
       "    }\n",
       "\n",
       "    .dataframe thead th {\n",
       "        text-align: right;\n",
       "    }\n",
       "</style>\n",
       "<table border=\"1\" class=\"dataframe\">\n",
       "  <thead>\n",
       "    <tr style=\"text-align: right;\">\n",
       "      <th></th>\n",
       "      <th>GOL</th>\n",
       "      <th>CVC</th>\n",
       "      <th>WEGE</th>\n",
       "      <th>MGLU</th>\n",
       "      <th>TOTS</th>\n",
       "      <th>BOVA</th>\n",
       "    </tr>\n",
       "  </thead>\n",
       "  <tbody>\n",
       "    <tr>\n",
       "      <th>GOL</th>\n",
       "      <td>0.580095</td>\n",
       "      <td>0.239109</td>\n",
       "      <td>0.083258</td>\n",
       "      <td>0.177579</td>\n",
       "      <td>0.101594</td>\n",
       "      <td>0.116325</td>\n",
       "    </tr>\n",
       "    <tr>\n",
       "      <th>CVC</th>\n",
       "      <td>0.239109</td>\n",
       "      <td>0.337575</td>\n",
       "      <td>0.059824</td>\n",
       "      <td>0.142995</td>\n",
       "      <td>0.079749</td>\n",
       "      <td>0.081795</td>\n",
       "    </tr>\n",
       "    <tr>\n",
       "      <th>WEGE</th>\n",
       "      <td>0.083258</td>\n",
       "      <td>0.059824</td>\n",
       "      <td>0.120971</td>\n",
       "      <td>0.070724</td>\n",
       "      <td>0.054430</td>\n",
       "      <td>0.046691</td>\n",
       "    </tr>\n",
       "    <tr>\n",
       "      <th>MGLU</th>\n",
       "      <td>0.177579</td>\n",
       "      <td>0.142995</td>\n",
       "      <td>0.070724</td>\n",
       "      <td>0.445201</td>\n",
       "      <td>0.087115</td>\n",
       "      <td>0.078898</td>\n",
       "    </tr>\n",
       "    <tr>\n",
       "      <th>TOTS</th>\n",
       "      <td>0.101594</td>\n",
       "      <td>0.079749</td>\n",
       "      <td>0.054430</td>\n",
       "      <td>0.087115</td>\n",
       "      <td>0.151233</td>\n",
       "      <td>0.049128</td>\n",
       "    </tr>\n",
       "    <tr>\n",
       "      <th>BOVA</th>\n",
       "      <td>0.116325</td>\n",
       "      <td>0.081795</td>\n",
       "      <td>0.046691</td>\n",
       "      <td>0.078898</td>\n",
       "      <td>0.049128</td>\n",
       "      <td>0.066080</td>\n",
       "    </tr>\n",
       "  </tbody>\n",
       "</table>\n",
       "</div>"
      ],
      "text/plain": [
       "           GOL       CVC      WEGE      MGLU      TOTS      BOVA\n",
       "GOL   0.580095  0.239109  0.083258  0.177579  0.101594  0.116325\n",
       "CVC   0.239109  0.337575  0.059824  0.142995  0.079749  0.081795\n",
       "WEGE  0.083258  0.059824  0.120971  0.070724  0.054430  0.046691\n",
       "MGLU  0.177579  0.142995  0.070724  0.445201  0.087115  0.078898\n",
       "TOTS  0.101594  0.079749  0.054430  0.087115  0.151233  0.049128\n",
       "BOVA  0.116325  0.081795  0.046691  0.078898  0.049128  0.066080"
      ]
     },
     "execution_count": 63,
     "metadata": {},
     "output_type": "execute_result"
    }
   ],
   "source": [
    "# Matriz de covariância anual das taxa de retorno anual\n",
    "taxa_retorno.cov() * 246"
   ]
  },
  {
   "cell_type": "code",
   "execution_count": 64,
   "id": "fef3773d",
   "metadata": {
    "ExecuteTime": {
     "end_time": "2023-04-19T12:45:14.586523Z",
     "start_time": "2023-04-19T12:45:14.562537Z"
    }
   },
   "outputs": [
    {
     "data": {
      "text/plain": [
       "0.15311326953262538"
      ]
     },
     "execution_count": 64,
     "metadata": {},
     "output_type": "execute_result"
    }
   ],
   "source": [
    "# Calcular a variância do portfólio\n",
    "# Vamos calcular a volatilidade da primeira carteira, que vamos considerar as ações individuais sem o BOVA\n",
    "variancia_portfolio1 = np.dot(pesos1, np.dot(taxa_retorno.cov() * 246, pesos1))\n",
    "variancia_portfolio1"
   ]
  },
  {
   "cell_type": "code",
   "execution_count": 65,
   "id": "c3f21bb0",
   "metadata": {
    "ExecuteTime": {
     "end_time": "2023-04-19T12:45:14.617508Z",
     "start_time": "2023-04-19T12:45:14.594519Z"
    }
   },
   "outputs": [
    {
     "data": {
      "text/plain": [
       "0.39129690713398874"
      ]
     },
     "execution_count": 65,
     "metadata": {},
     "output_type": "execute_result"
    }
   ],
   "source": [
    "# Calcular da volatilidade do portfólio\n",
    "volatidade_portfolio1 = math.sqrt(np.dot(pesos1, np.dot(taxa_retorno.cov() * 246, pesos1)))\n",
    "volatidade_portfolio1"
   ]
  },
  {
   "cell_type": "markdown",
   "id": "4da07d29",
   "metadata": {},
   "source": [
    "**Nota:**\n",
    "- A volatilidade do portfólio um é de 0.39."
   ]
  },
  {
   "cell_type": "code",
   "execution_count": 66,
   "id": "28bfed77",
   "metadata": {
    "ExecuteTime": {
     "end_time": "2023-04-19T12:45:14.648486Z",
     "start_time": "2023-04-19T12:45:14.624516Z"
    },
    "colab": {
     "base_uri": "https://localhost:8080/"
    },
    "id": "q-u0ph4HHP1L",
    "outputId": "54b968ba-f28f-495d-e87a-aee79967dc49"
   },
   "outputs": [
    {
     "data": {
      "text/plain": [
       "0.39129690713398874"
      ]
     },
     "execution_count": 66,
     "metadata": {},
     "output_type": "execute_result"
    }
   ],
   "source": [
    "# Cálculo do desvio padrão - volatilidade do portfólio (uma outra forma)\n",
    "volatilidade_portfolio1 = math.sqrt(variancia_portfolio1)\n",
    "volatilidade_portfolio1"
   ]
  },
  {
   "cell_type": "markdown",
   "id": "3e7baec5",
   "metadata": {},
   "source": [
    "**Nota:**\n",
    "- A volatilidade deste portfólio é de 0.39 no período de 2015 a 2022.\n",
    "- Investidores que buscam menos riscos devem procurar carteiras que tenham esses valores mais baixos."
   ]
  },
  {
   "cell_type": "code",
   "execution_count": 67,
   "id": "7b850f59",
   "metadata": {
    "ExecuteTime": {
     "end_time": "2023-04-19T12:45:14.678470Z",
     "start_time": "2023-04-19T12:45:14.658481Z"
    },
    "id": "Bz5n1c6VHzwg"
   },
   "outputs": [],
   "source": [
    "# Peso somente para a BOVA (Carteira dois)\n",
    "pesos2 = np.array([0.0, 0.0, 0.0, 0.0, 0.0, 1.0])"
   ]
  },
  {
   "cell_type": "code",
   "execution_count": 68,
   "id": "1ddcf98a",
   "metadata": {
    "ExecuteTime": {
     "end_time": "2023-04-19T12:45:14.710451Z",
     "start_time": "2023-04-19T12:45:14.683468Z"
    },
    "colab": {
     "base_uri": "https://localhost:8080/"
    },
    "id": "otEgx6tgH9li",
    "outputId": "2c358f58-8d64-476e-dce0-e7721b4d4763"
   },
   "outputs": [
    {
     "data": {
      "text/plain": [
       "0.0660796932595523"
      ]
     },
     "execution_count": 68,
     "metadata": {},
     "output_type": "execute_result"
    }
   ],
   "source": [
    "# Calcular a variância\n",
    "variancia_portfolio2 = np.dot(pesos2, np.dot(taxa_retorno.cov() * 246, pesos2))\n",
    "variancia_portfolio2"
   ]
  },
  {
   "cell_type": "markdown",
   "id": "858994c7",
   "metadata": {},
   "source": [
    "**Nota:**\n",
    "- Podemos notar que a variância da BOVA é menor do que a variância do portfólio."
   ]
  },
  {
   "cell_type": "code",
   "execution_count": 69,
   "id": "625686ff",
   "metadata": {
    "ExecuteTime": {
     "end_time": "2023-04-19T12:45:14.741435Z",
     "start_time": "2023-04-19T12:45:14.714450Z"
    },
    "colab": {
     "base_uri": "https://localhost:8080/"
    },
    "id": "76SNhDpMIqZs",
    "outputId": "c5d0b0b8-5879-40f0-cb8d-258af0691004"
   },
   "outputs": [
    {
     "data": {
      "text/plain": [
       "0.25705970757696023"
      ]
     },
     "execution_count": 69,
     "metadata": {},
     "output_type": "execute_result"
    }
   ],
   "source": [
    "# Cálculo do desvio padrão\n",
    "volatilidade_portfolio2 = math.sqrt(variancia_portfolio2)\n",
    "volatilidade_portfolio2"
   ]
  },
  {
   "cell_type": "markdown",
   "id": "44d54be6",
   "metadata": {},
   "source": [
    "**Nota:**\n",
    "- O risco para investir na BOVA é menor do que investir nessas empresas individualmente.\n",
    "    - Carteira 1 = 0.39\n",
    "    - Carteira 2 = 0.25"
   ]
  },
  {
   "cell_type": "markdown",
   "id": "8490b927",
   "metadata": {},
   "source": [
    "# <font color='red'> 5 - INSIGHTS"
   ]
  },
  {
   "cell_type": "markdown",
   "id": "152846f6",
   "metadata": {},
   "source": [
    "**Com base nos valores apresentados, podemos concluir que:**\n",
    "- Se o objetivo do investidor for maximizar o retorno, a ação MGLU apresentou o maior retorno no período avaliado.\n",
    "- No entanto, se o objetivo for minimizar o risco, a ação WEGE apresentou o menor risco médio anual.\n",
    "- Por outro lado, a pior ação seria aquela com o maior risco e menor retorno, que no caso da tabela é a ação CVC.\n",
    "- No entanto, é importante lembrar que investimentos com maior retorno potencial geralmente estão associados a um maior risco.\n",
    "- A volatilidade deste portfólio (GOL, CVC, WEGE, MGLU e TOTS) é de 39% no período de 2015 a 2022.\n",
    "- A volatilidade da BOVA é de 26%, menor que as ações individuais.\n",
    "    - Diante deste resultado é melhor investir nas ações da BOVA, porque apresenta uma volatilidade menor."
   ]
  },
  {
   "cell_type": "markdown",
   "id": "138d7e0b",
   "metadata": {},
   "source": [
    "# <font color='red'> 6 - PRÓXIMOS PASSOS"
   ]
  },
  {
   "cell_type": "markdown",
   "id": "baaf72ef",
   "metadata": {},
   "source": [
    "**Trabalhar com alocação e otimização de portfólios e para isso vamos fazer:**\n",
    "\n",
    "- Definição de pesos para as ações\n",
    "- Sharpe ratio (é um dos cálculos mais utilizados para medir o desempenho de uma carteira de ação)\n",
    "- Cálculo de Markowitz (para medir o desempenho de um portfólio de ações)\n",
    "- Alocação randômica de pesos\n",
    "- Algoritmos de otimização (vamos usar esses três algoritmos de inteligência artificial para descobrir quais são os melhores pesos):\n",
    "    - Hill climb (subida da encosta)\n",
    "    - Simulated annealing (têmpera simulada)\n",
    "    - Algoritmo genético"
   ]
  },
  {
   "cell_type": "code",
   "execution_count": null,
   "id": "d69ee09f",
   "metadata": {},
   "outputs": [],
   "source": []
  }
 ],
 "metadata": {
  "kernelspec": {
   "display_name": "Python 3 (ipykernel)",
   "language": "python",
   "name": "python3"
  },
  "language_info": {
   "codemirror_mode": {
    "name": "ipython",
    "version": 3
   },
   "file_extension": ".py",
   "mimetype": "text/x-python",
   "name": "python",
   "nbconvert_exporter": "python",
   "pygments_lexer": "ipython3",
   "version": "3.9.12"
  }
 },
 "nbformat": 4,
 "nbformat_minor": 5
}
